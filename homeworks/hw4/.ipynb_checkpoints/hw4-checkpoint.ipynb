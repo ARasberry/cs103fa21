{
 "cells": [
  {
   "cell_type": "markdown",
   "id": "2c1dd986",
   "metadata": {},
   "source": [
    "# Austin Rasberry\n",
    "# Arasberr"
   ]
  },
  {
   "cell_type": "markdown",
   "id": "20839cc1",
   "metadata": {},
   "source": [
    "## Mandatory Functions"
   ]
  },
  {
   "cell_type": "code",
   "execution_count": 1,
   "id": "56f6c7ec",
   "metadata": {},
   "outputs": [],
   "source": [
    "def myName():\n",
    "    #Function returns my name\n",
    "    return 'Austin Rasberry'"
   ]
  },
  {
   "cell_type": "code",
   "execution_count": 2,
   "id": "264107b3",
   "metadata": {},
   "outputs": [],
   "source": [
    "def myBlazerID():\n",
    "    #Function returns my BlazerId\n",
    "    return 'arasberr'"
   ]
  },
  {
   "cell_type": "code",
   "execution_count": 3,
   "id": "f798587d",
   "metadata": {},
   "outputs": [],
   "source": [
    "def myBio():\n",
    "    #Function calls the two bio functions and combines them with a string \n",
    "    print('My name is = ' + myName() + ' and my BlazerId is = ' + myBlazerID())"
   ]
  },
  {
   "cell_type": "code",
   "execution_count": 4,
   "id": "b9cc6093",
   "metadata": {},
   "outputs": [
    {
     "name": "stdout",
     "output_type": "stream",
     "text": [
      "My name is = Austin Rasberry and my BlazerId is = arasberr\n"
     ]
    }
   ],
   "source": [
    "myBio()"
   ]
  },
  {
   "cell_type": "code",
   "execution_count": 10,
   "id": "88262440",
   "metadata": {},
   "outputs": [],
   "source": [
    "import csv"
   ]
  },
  {
   "cell_type": "markdown",
   "id": "acd9bb0b",
   "metadata": {},
   "source": [
    "## Question 1"
   ]
  },
  {
   "cell_type": "code",
   "execution_count": 78,
   "id": "a30e49ec",
   "metadata": {},
   "outputs": [],
   "source": [
    "def numOfDepts():\n",
    "    ''' \n",
    "    takes a file and prints the number of departments \n",
    "    parameters - none\n",
    "    prints - number and names of departments\n",
    "    '''\n",
    "    with open ('students_dataset.csv', 'r') as studentsDataset:\n",
    "        readStuData = csv.reader(studentsDataset, delimiter = ',')\n",
    "        records = []\n",
    "        for row in readStuData:\n",
    "            records.append(row)\n",
    "        numRows = len(records)\n",
    "        numCols = len(records [0])\n",
    "        numDept = 0\n",
    "        departments = []\n",
    "        for row in range(1,numRows):\n",
    "            if records [row] [2] not in departments:\n",
    "                numDept += 1\n",
    "                departments.append(records [row][2])\n",
    "        print(numDept)\n",
    "        print(departments)\n",
    "    "
   ]
  },
  {
   "cell_type": "code",
   "execution_count": 79,
   "id": "ee3720de",
   "metadata": {},
   "outputs": [
    {
     "name": "stdout",
     "output_type": "stream",
     "text": [
      "5\n",
      "['Computer Science', 'Biology', 'Math', 'History', 'ECE']\n"
     ]
    }
   ],
   "source": [
    "numOfDepts()"
   ]
  },
  {
   "cell_type": "markdown",
   "id": "b4f8c691",
   "metadata": {},
   "source": [
    "## Question 2"
   ]
  },
  {
   "cell_type": "code",
   "execution_count": 80,
   "id": "0e7f6594",
   "metadata": {},
   "outputs": [],
   "source": [
    "def highestGPA():\n",
    "    \"\"\" \n",
    "    takes a file and prints the name of the student with the highest gpa\n",
    "    parameters - none\n",
    "    prints - highest GPA and the name of the student that made it\n",
    "    \"\"\"\n",
    "    with open ('students_dataset.csv', 'r') as studentsDataset:\n",
    "        readStuData = csv.reader(studentsDataset, delimiter = ',')\n",
    "        records = []\n",
    "        for row in readStuData:\n",
    "            records.append(row)\n",
    "        numRows = len(records)\n",
    "        numCols = len(records [0])\n",
    "        highGpa = 0\n",
    "        highGpaStuFN = ''\n",
    "        highGpaStuLN = ''\n",
    "        for row in range(1, numRows):\n",
    "            if float(records[row][4])> highGpa:\n",
    "                highGpa = float(records[row][4])\n",
    "                highGpaStuFN = (records[row] [0])\n",
    "                highGpaStuLN = (records[row] [1])\n",
    "        print(highGpa)\n",
    "        print(highGpaStuFN , highGpaStuLN)"
   ]
  },
  {
   "cell_type": "code",
   "execution_count": 81,
   "id": "c63ff5d8",
   "metadata": {},
   "outputs": [
    {
     "name": "stdout",
     "output_type": "stream",
     "text": [
      "4.0\n",
      "Laura Bailey\n"
     ]
    }
   ],
   "source": [
    "highestGPA()"
   ]
  },
  {
   "cell_type": "markdown",
   "id": "e4c777c7",
   "metadata": {},
   "source": [
    "## Question 3"
   ]
  },
  {
   "cell_type": "code",
   "execution_count": 87,
   "id": "868a4039",
   "metadata": {},
   "outputs": [],
   "source": [
    "def avgCompSciCreditHours():\n",
    "    \"\"\" \n",
    "    takes a file and prints the average number of credit hours in the Comp Sci department\n",
    "    parameters - none\n",
    "    prints - average number of credit hours in the Comp Sci department\n",
    "    \"\"\"\n",
    "    with open ('students_dataset.csv', 'r') as studentsDataset:\n",
    "        readStuData = csv.reader(studentsDataset, delimiter = ',')\n",
    "        records = []\n",
    "        for row in readStuData:\n",
    "            records.append(row)\n",
    "        numRows = len(records)\n",
    "        numCols = len(records [0])\n",
    "        credHours = 0\n",
    "        numOfCompSci = 0\n",
    "        for row in range(1, numRows):\n",
    "            if records [row][2] == 'Computer Science':\n",
    "                numOfCompSci += 1\n",
    "                credHours += float(records[row][5])\n",
    "        print(round((credHours/numOfCompSci),2))"
   ]
  },
  {
   "cell_type": "code",
   "execution_count": 88,
   "id": "7068997b",
   "metadata": {},
   "outputs": [
    {
     "name": "stdout",
     "output_type": "stream",
     "text": [
      "6.0\n"
     ]
    }
   ],
   "source": [
    "avgCompSciCreditHours()"
   ]
  },
  {
   "cell_type": "markdown",
   "id": "8503c36b",
   "metadata": {},
   "source": [
    "## Question 4"
   ]
  },
  {
   "cell_type": "code",
   "execution_count": 95,
   "id": "f494bfc5",
   "metadata": {},
   "outputs": [],
   "source": [
    "def bioTAGPA():\n",
    "    \"\"\"\n",
    "    takes a file and prints the average GPA of the biology TA's\n",
    "    parameters - none\n",
    "    prints - average GPA of the biology TA's\n",
    "    \"\"\"\n",
    "    with open ('students_dataset.csv', 'r') as studentsDataset:\n",
    "        readStuData = csv.reader(studentsDataset, delimiter = ',')\n",
    "        records = []\n",
    "        for row in readStuData:\n",
    "            records.append(row)\n",
    "        numRows = len(records)\n",
    "        numCols = len(records [0])\n",
    "        GPA = 0\n",
    "        numOfBioTA = 0\n",
    "        for row in range(1, numRows): \n",
    "            if records [row][2] == 'Biology' and records [row][6] == 'Yes':\n",
    "                GPA += float(records[row][4])\n",
    "                numOfBioTA += 1\n",
    "        print(round((GPA/numOfBioTA),2))"
   ]
  },
  {
   "cell_type": "code",
   "execution_count": 96,
   "id": "69ecaa1f",
   "metadata": {},
   "outputs": [
    {
     "name": "stdout",
     "output_type": "stream",
     "text": [
      "3.34\n"
     ]
    }
   ],
   "source": [
    "bioTAGPA()"
   ]
  },
  {
   "cell_type": "markdown",
   "id": "396c8bfe",
   "metadata": {},
   "source": [
    "## Question 5"
   ]
  },
  {
   "cell_type": "code",
   "execution_count": null,
   "id": "b56a061b",
   "metadata": {},
   "outputs": [],
   "source": [
    "def taCount():\n",
    "    \"\"\"\n",
    "    takes a file and returns the name of the TA's and the number of students they have\n",
    "    parameters - none\n",
    "    prints - dictionary of the names of the TA's and the numeber of students they have\n",
    "    \"\"\"\n",
    "    with open ('students_dataset.csv', 'r') as studentsDataset:\n",
    "        readStuData = csv.reader(studentsDataset, delimiter = ',')\n",
    "        records = []\n",
    "        for row in readStuData:\n",
    "            records.append(row)\n",
    "        numRows = len(records)\n",
    "        numCols = len(records [0])\n",
    "        advisorDict = {}\n",
    "        advisorNameList = []\n",
    "        advisorCountList = []\n",
    "        advisorCount = 0\n",
    "        zippedAdvisor = []\n",
    "        for row in range(1,numRows):\n",
    "            if records [row][7] not in advisorNameList:\n",
    "                advisorNameList.append(str(records [row][7]))\n",
    "                for rows in range(1,numRows):\n",
    "                    if records [rows][7] == records [row][7]:\n",
    "                        advisorCount += 1\n",
    "                advisorCountList.append(advisorCount)\n",
    "        zippedAdvisor = zip(advisorNameList, advisorCountList)\n",
    "        advisorDict = {key:value for key, value in zip(advisorNameList, advisorCountList)}\n",
    "        print(advisorDict)\n",
    "            "
   ]
  },
  {
   "cell_type": "code",
   "execution_count": 98,
   "id": "8af6edde",
   "metadata": {},
   "outputs": [
    {
     "name": "stdout",
     "output_type": "stream",
     "text": [
      "{'Bruce Wayne': 11, 'John Smith': 25, 'James Bond': 34, 'Jane Doe': 45, 'Jean Grey': 50}\n"
     ]
    }
   ],
   "source": [
    "taCount()"
   ]
  }
 ],
 "metadata": {
  "kernelspec": {
   "display_name": "Python 3",
   "language": "python",
   "name": "python3"
  },
  "language_info": {
   "codemirror_mode": {
    "name": "ipython",
    "version": 3
   },
   "file_extension": ".py",
   "mimetype": "text/x-python",
   "name": "python",
   "nbconvert_exporter": "python",
   "pygments_lexer": "ipython3",
   "version": "3.8.8"
  }
 },
 "nbformat": 4,
 "nbformat_minor": 5
}
