{
 "cells": [
  {
   "cell_type": "code",
   "execution_count": 211,
   "id": "b450a3a5",
   "metadata": {},
   "outputs": [],
   "source": [
    "import csv\n",
    "import turtle"
   ]
  },
  {
   "cell_type": "code",
   "execution_count": 212,
   "id": "ee6fa4c0",
   "metadata": {},
   "outputs": [],
   "source": [
    "def divSpecial(n1):\n",
    "    dm = 0\n",
    "    if n1%6 == 0 and n1%11 != 0:\n",
    "        return 'divSix'\n",
    "    elif n1%6 !=0 and n1%11 == 0:\n",
    "        return 'divEleven'\n",
    "    elif n1%6 == 0 and n1%6 == 0:\n",
    "        return 'Bingo'\n",
    "    for i in range(1,n1+1):\n",
    "        if n1%i == 0:\n",
    "            dm += 1\n",
    "    if dm == 2 and n1 != 11:\n",
    "        return 'Perfect'\n",
    "    else: \n",
    "        return str(n1**3)"
   ]
  },
  {
   "cell_type": "code",
   "execution_count": 213,
   "id": "27c1223b",
   "metadata": {},
   "outputs": [
    {
     "data": {
      "text/plain": [
       "'divEleven'"
      ]
     },
     "execution_count": 213,
     "metadata": {},
     "output_type": "execute_result"
    }
   ],
   "source": [
    "divSpecial(11)"
   ]
  },
  {
   "cell_type": "code",
   "execution_count": 214,
   "id": "71824762",
   "metadata": {},
   "outputs": [
    {
     "data": {
      "text/plain": [
       "'divSix'"
      ]
     },
     "execution_count": 214,
     "metadata": {},
     "output_type": "execute_result"
    }
   ],
   "source": [
    "divSpecial(12)"
   ]
  },
  {
   "cell_type": "code",
   "execution_count": 215,
   "id": "f80858a4",
   "metadata": {},
   "outputs": [
    {
     "data": {
      "text/plain": [
       "'3723875'"
      ]
     },
     "execution_count": 215,
     "metadata": {},
     "output_type": "execute_result"
    }
   ],
   "source": [
    "divSpecial(155)"
   ]
  },
  {
   "cell_type": "code",
   "execution_count": 216,
   "id": "31fc5842",
   "metadata": {},
   "outputs": [],
   "source": [
    "def fileAnalyze():\n",
    "    with open ('students_dataset.csv', 'r') as studentsDataset:\n",
    "            readStuData = csv.reader(studentsDataset, delimiter = ',')\n",
    "            records = []\n",
    "            for row in readStuData:\n",
    "                records.append(row)\n",
    "            numRows = len(records)\n",
    "            numCols = len(records [0])\n",
    "            advisorNameList = []\n",
    "            for row in range(1,numRows):\n",
    "                if records [row][7] not in advisorNameList:\n",
    "                    advisorNameList.append(str(records [row][7]))\n",
    "            return len(advisorNameList)"
   ]
  },
  {
   "cell_type": "code",
   "execution_count": 217,
   "id": "73445fdf",
   "metadata": {},
   "outputs": [
    {
     "data": {
      "text/plain": [
       "5"
      ]
     },
     "execution_count": 217,
     "metadata": {},
     "output_type": "execute_result"
    }
   ],
   "source": [
    "fileAnalyze()"
   ]
  },
  {
   "cell_type": "code",
   "execution_count": 218,
   "id": "370c18c7",
   "metadata": {},
   "outputs": [],
   "source": [
    "def blazerNumber(n2):\n",
    "    factors = []\n",
    "    factorsAdded = 0\n",
    "    for i in range(1,n2):\n",
    "        if n2%i == 0:\n",
    "            factors.append(i)\n",
    "            factorsAdded += i\n",
    "    if factorsAdded == n2:\n",
    "        return True\n",
    "    else:\n",
    "        return False"
   ]
  },
  {
   "cell_type": "code",
   "execution_count": 219,
   "id": "29dc7bdf",
   "metadata": {},
   "outputs": [
    {
     "data": {
      "text/plain": [
       "True"
      ]
     },
     "execution_count": 219,
     "metadata": {},
     "output_type": "execute_result"
    }
   ],
   "source": [
    "blazerNumber(28)"
   ]
  },
  {
   "cell_type": "code",
   "execution_count": 220,
   "id": "f8485499",
   "metadata": {},
   "outputs": [
    {
     "data": {
      "text/plain": [
       "False"
      ]
     },
     "execution_count": 220,
     "metadata": {},
     "output_type": "execute_result"
    }
   ],
   "source": [
    "blazerNumber(5)"
   ]
  },
  {
   "cell_type": "code",
   "execution_count": 221,
   "id": "2988c9ce",
   "metadata": {},
   "outputs": [],
   "source": [
    "def turtleUAB():\n",
    "    \n",
    "    turtle.penup()\n",
    "    turtle.setx(-300)\n",
    "    turtle.sety(100)\n",
    "    turtle.setheading(0)\n",
    "    turtle.pendown()\n",
    "    turtle.right(90)\n",
    "    turtle.forward(90)\n",
    "    turtle.circle(45,180)\n",
    "    turtle.forward(90)\n",
    "    \n",
    "    \n",
    "    turtle.penup()\n",
    "    turtle.setx(-100)\n",
    "    turtle.sety(-35)\n",
    "    turtle.setheading(0)\n",
    "    turtle.pendown()\n",
    "    turtle.left(75)\n",
    "    turtle.forward(145)\n",
    "    turtle.right(145)\n",
    "    turtle.forward(145)\n",
    "    turtle.backward(72.5)\n",
    "    turtle.right(110)\n",
    "    turtle.forward(45)\n",
    "    \n",
    "    turtle.penup()\n",
    "    turtle.setx(100)\n",
    "    turtle.sety(100)\n",
    "    turtle.setheading(0)\n",
    "    turtle.pendown()\n",
    "    turtle.right(90)\n",
    "    turtle.forward(145)\n",
    "    turtle.forward(-72.5)\n",
    "    turtle.left(90)\n",
    "    turtle.circle(36.25,180)\n",
    "    turtle.left(90)\n",
    "    turtle.forward(145)\n",
    "    turtle.left(90)\n",
    "    turtle.circle(36.25,180)"
   ]
  },
  {
   "cell_type": "code",
   "execution_count": 222,
   "id": "e37f79f2",
   "metadata": {},
   "outputs": [],
   "source": [
    "\n",
    "turtle.clear()\n",
    "turtleUAB()"
   ]
  },
  {
   "cell_type": "code",
   "execution_count": 223,
   "id": "f3aaad51",
   "metadata": {},
   "outputs": [],
   "source": [
    "def blazerTriangle(numbers):\n",
    "    greatestTri = 0\n",
    "    numOfTri = 0\n",
    "    for i in range(0,len(numbers)):\n",
    "        for n in range(0,len(numbers)):\n",
    "            for j in range(0,len(numbers)):\n",
    "                if i != j and j != n and i != n:\n",
    "                    if numbers[i] + numbers[n] > numbers[j] and numbers[j] + numbers[n] > numbers[i] and numbers[i] + numbers[j] > numbers[n]:\n",
    "                        numOfTri += 1\n",
    "                        if numbers[i] + numbers[n] + numbers[j] > greatestTri:\n",
    "                            greatestTri = numbers[i] + numbers[n] +numbers[j]\n",
    "    if numOfTri == 0:\n",
    "        return -1\n",
    "    else:\n",
    "        return greatestTri\n",
    "                    "
   ]
  },
  {
   "cell_type": "code",
   "execution_count": 224,
   "id": "de7a2d4c",
   "metadata": {},
   "outputs": [
    {
     "data": {
      "text/plain": [
       "-1"
      ]
     },
     "execution_count": 224,
     "metadata": {},
     "output_type": "execute_result"
    }
   ],
   "source": [
    "blazerTriangle([20,8,200])"
   ]
  },
  {
   "cell_type": "code",
   "execution_count": 225,
   "id": "9b280cc4",
   "metadata": {},
   "outputs": [
    {
     "data": {
      "text/plain": [
       "135"
      ]
     },
     "execution_count": 225,
     "metadata": {},
     "output_type": "execute_result"
    }
   ],
   "source": [
    "blazerTriangle([35,45,55,250])"
   ]
  },
  {
   "cell_type": "code",
   "execution_count": 226,
   "id": "00829357",
   "metadata": {},
   "outputs": [
    {
     "data": {
      "text/plain": [
       "10"
      ]
     },
     "execution_count": 226,
     "metadata": {},
     "output_type": "execute_result"
    }
   ],
   "source": [
    "blazerTriangle([3,2,3,4,1,12])"
   ]
  },
  {
   "cell_type": "code",
   "execution_count": 227,
   "id": "d1b51bf8",
   "metadata": {},
   "outputs": [
    {
     "data": {
      "text/plain": [
       "-1"
      ]
     },
     "execution_count": 227,
     "metadata": {},
     "output_type": "execute_result"
    }
   ],
   "source": [
    "blazerTriangle([100,100,500,1000,100000])"
   ]
  }
 ],
 "metadata": {
  "kernelspec": {
   "display_name": "Python 3",
   "language": "python",
   "name": "python3"
  },
  "language_info": {
   "codemirror_mode": {
    "name": "ipython",
    "version": 3
   },
   "file_extension": ".py",
   "mimetype": "text/x-python",
   "name": "python",
   "nbconvert_exporter": "python",
   "pygments_lexer": "ipython3",
   "version": "3.8.8"
  }
 },
 "nbformat": 4,
 "nbformat_minor": 5
}
