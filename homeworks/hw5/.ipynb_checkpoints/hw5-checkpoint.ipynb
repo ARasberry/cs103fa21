{
 "cells": [
  {
   "cell_type": "markdown",
   "id": "8ae71186",
   "metadata": {},
   "source": [
    "# Austin Rasberry\n",
    "# Arasberr"
   ]
  },
  {
   "cell_type": "markdown",
   "id": "3ee6d32c",
   "metadata": {},
   "source": [
    "## Mandatory Functions"
   ]
  },
  {
   "cell_type": "code",
   "execution_count": 1,
   "id": "76a3a12b",
   "metadata": {},
   "outputs": [],
   "source": [
    "def myName():\n",
    "    #Function returns my name\n",
    "    return 'Austin Rasberry'"
   ]
  },
  {
   "cell_type": "code",
   "execution_count": 2,
   "id": "86e4a8e6",
   "metadata": {},
   "outputs": [],
   "source": [
    "def myBlazerID():\n",
    "    #Function returns my BlazerId\n",
    "    return 'arasberr'"
   ]
  },
  {
   "cell_type": "code",
   "execution_count": 3,
   "id": "85124fd7",
   "metadata": {},
   "outputs": [],
   "source": [
    "def myBio():\n",
    "    #Function calls the two bio functions and combines them with a string \n",
    "    print('My name is = ' + myName() + ' and my BlazerId is = ' + myBlazerID())"
   ]
  },
  {
   "cell_type": "code",
   "execution_count": 4,
   "id": "a3fbc6c6",
   "metadata": {},
   "outputs": [
    {
     "name": "stdout",
     "output_type": "stream",
     "text": [
      "My name is = Austin Rasberry and my BlazerId is = arasberr\n"
     ]
    }
   ],
   "source": [
    "myBio()"
   ]
  },
  {
   "cell_type": "code",
   "execution_count": 2,
   "id": "5c8990aa",
   "metadata": {},
   "outputs": [],
   "source": [
    "import turtle\n",
    "import random"
   ]
  },
  {
   "cell_type": "code",
   "execution_count": 3,
   "id": "d270787c",
   "metadata": {},
   "outputs": [],
   "source": [
    "def turtleSquare(n):\n",
    "    turtle.pendown()\n",
    "    turtle.begin_fill()\n",
    "    turtle.forward(n)\n",
    "    turtle.right(90)\n",
    "    turtle.forward(n)\n",
    "    turtle.right(90)\n",
    "    turtle.forward(n)\n",
    "    turtle.right(90)\n",
    "    turtle.forward(n)\n",
    "    turtle.end_fill()"
   ]
  },
  {
   "cell_type": "code",
   "execution_count": 4,
   "id": "ce997b13",
   "metadata": {},
   "outputs": [],
   "source": [
    "def turtleCircle(n):\n",
    "    turtle.pendown()\n",
    "    turtle.begin_fill()\n",
    "    turtle.circle(n)\n",
    "    turtle.end_fill()"
   ]
  },
  {
   "cell_type": "code",
   "execution_count": 5,
   "id": "5a338594",
   "metadata": {},
   "outputs": [],
   "source": [
    "def turtleRectangle(n):\n",
    "    turtle.pendown()\n",
    "    turtle.begin_fill()\n",
    "    turtle.forward(2*n)\n",
    "    turtle.right(90)\n",
    "    turtle.forward(n)\n",
    "    turtle.right(90)\n",
    "    turtle.forward(2*n)\n",
    "    turtle.right(90)\n",
    "    turtle.forward(n)\n",
    "    turtle.end_fill()"
   ]
  },
  {
   "cell_type": "code",
   "execution_count": 6,
   "id": "f9b6d216",
   "metadata": {},
   "outputs": [],
   "source": [
    "def turtleEqualTriangle(n):\n",
    "    turtle.pendown()\n",
    "    turtle.begin_fill()\n",
    "    turtle.forward(n/2)\n",
    "    turtle.left(120)\n",
    "    turtle.forward(n)\n",
    "    turtle.left(120)\n",
    "    turtle.forward(n)\n",
    "    turtle.left(120)\n",
    "    turtle.forward(n/2)\n",
    "    turtle.end_fill()"
   ]
  },
  {
   "cell_type": "code",
   "execution_count": 7,
   "id": "48859473",
   "metadata": {},
   "outputs": [],
   "source": [
    "def turtlePentagon(n):\n",
    "    turtle.pendown()\n",
    "    turtle.begin_fill()\n",
    "    turtle.forward(n)\n",
    "    turtle.left(72)\n",
    "    turtle.forward(n)\n",
    "    turtle.left(72)\n",
    "    turtle.forward(n)\n",
    "    turtle.left(72)\n",
    "    turtle.forward(n)\n",
    "    turtle.left(72)\n",
    "    turtle.forward(n)\n",
    "    turtle.left(72)\n",
    "    turtle.end_fill()"
   ]
  },
  {
   "cell_type": "code",
   "execution_count": 18,
   "id": "86b88826",
   "metadata": {},
   "outputs": [],
   "source": [
    "def turtleStar(n):\n",
    "    turtle.pendown()\n",
    "    turtle.begin_fill()\n",
    "    turtle.forward(n)\n",
    "    turtle.right(60)\n",
    "    turtle.forward(n)\n",
    "    turtle.left(120)\n",
    "    turtle.forward(n)\n",
    "    turtle.right(60)\n",
    "    turtle.forward(n)\n",
    "    turtle.left(120)\n",
    "    turtle.forward(n)\n",
    "    turtle.right(60)\n",
    "    turtle.forward(n)\n",
    "    turtle.left(120)\n",
    "    turtle.forward(n)\n",
    "    turtle.right(60)\n",
    "    turtle.forward(n)\n",
    "    turtle.left(120)\n",
    "    turtle.forward(n)\n",
    "    turtle.right(60)\n",
    "    turtle.forward(n)\n",
    "    turtle.left(120)\n",
    "    turtle.forward(n)\n",
    "    turtle.right(60)\n",
    "    turtle.forward(n)\n",
    "    turtle.left(120)\n",
    "    turtle.forward(n)\n",
    "    turtle.end_fill()"
   ]
  },
  {
   "cell_type": "code",
   "execution_count": 19,
   "id": "599a38b5",
   "metadata": {},
   "outputs": [],
   "source": [
    "def randShapes():\n",
    "    turtle.penup()\n",
    "    turtle.colormode(255)\n",
    "    width = random.randint(1,50)\n",
    "    fr = random.randint(0,255) \n",
    "    fg = random.randint(0,255)\n",
    "    fb = random.randint(0,255)\n",
    "    pr = random.randint(0,255)\n",
    "    pg = random.randint(0,255)\n",
    "    pb = random.randint(0,255)\n",
    "    x = random.randint(-400,400)\n",
    "    y = random.randint(-300,300)\n",
    "    n = random.randint(25,100)\n",
    "    shape = random.randint(0,5)\n",
    "    turtle.pensize(width)\n",
    "    turtle.pencolor((pr,pg,pb))\n",
    "    turtle.setposition(x,y)\n",
    "    turtle.fillcolor((fr,fg,fb))\n",
    "    if shape == 0:\n",
    "        turtleSquare(n)\n",
    "    elif shape == 1:\n",
    "        turtleCircle(n)\n",
    "    elif shape == 2:\n",
    "        turtleRectangle(n)\n",
    "    elif shape == 3:\n",
    "        turtleEqualTriangle(n)\n",
    "    elif shape == 4:\n",
    "        turtlePentagon(n)\n",
    "    else:\n",
    "        turtleStar(n)"
   ]
  },
  {
   "cell_type": "code",
   "execution_count": 23,
   "id": "147f9494",
   "metadata": {},
   "outputs": [],
   "source": [
    "randShapes()"
   ]
  },
  {
   "cell_type": "code",
   "execution_count": null,
   "id": "fa7d618a",
   "metadata": {},
   "outputs": [],
   "source": []
  },
  {
   "cell_type": "code",
   "execution_count": null,
   "id": "ca85ab5b",
   "metadata": {},
   "outputs": [],
   "source": []
  }
 ],
 "metadata": {
  "kernelspec": {
   "display_name": "Python 3",
   "language": "python",
   "name": "python3"
  },
  "language_info": {
   "codemirror_mode": {
    "name": "ipython",
    "version": 3
   },
   "file_extension": ".py",
   "mimetype": "text/x-python",
   "name": "python",
   "nbconvert_exporter": "python",
   "pygments_lexer": "ipython3",
   "version": "3.8.8"
  }
 },
 "nbformat": 4,
 "nbformat_minor": 5
}
