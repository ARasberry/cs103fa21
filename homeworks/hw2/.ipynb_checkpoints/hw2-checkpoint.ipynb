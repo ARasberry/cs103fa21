{
 "cells": [
  {
   "cell_type": "markdown",
   "id": "b8db8d60",
   "metadata": {},
   "source": [
    "# HW2, CS103 Fall 2021\n",
    "# name: Austin Rasberry\n",
    "# Blazerid: arasberr"
   ]
  },
  {
   "cell_type": "code",
   "execution_count": 7,
   "id": "7b81e4e5",
   "metadata": {},
   "outputs": [],
   "source": [
    "import math"
   ]
  },
  {
   "cell_type": "markdown",
   "id": "58ab6ef6",
   "metadata": {},
   "source": [
    "## Practice Problem"
   ]
  },
  {
   "cell_type": "code",
   "execution_count": 17,
   "id": "9724017d",
   "metadata": {},
   "outputs": [],
   "source": [
    "def p(x):\n",
    "    if x<0 or x>1:\n",
    "        return 0\n",
    "    else:\n",
    "        return 1"
   ]
  },
  {
   "cell_type": "code",
   "execution_count": 21,
   "id": "7e698bb3",
   "metadata": {
    "scrolled": true
   },
   "outputs": [
    {
     "data": {
      "text/plain": [
       "0"
      ]
     },
     "execution_count": 21,
     "metadata": {},
     "output_type": "execute_result"
    }
   ],
   "source": [
    "p(-1)"
   ]
  },
  {
   "cell_type": "code",
   "execution_count": 22,
   "id": "a1f5403c",
   "metadata": {},
   "outputs": [
    {
     "data": {
      "text/plain": [
       "1"
      ]
     },
     "execution_count": 22,
     "metadata": {},
     "output_type": "execute_result"
    }
   ],
   "source": [
    "p(1)"
   ]
  },
  {
   "cell_type": "code",
   "execution_count": 23,
   "id": "f5a79707",
   "metadata": {},
   "outputs": [
    {
     "data": {
      "text/plain": [
       "0"
      ]
     },
     "execution_count": 23,
     "metadata": {},
     "output_type": "execute_result"
    }
   ],
   "source": [
    "p(2)"
   ]
  },
  {
   "cell_type": "markdown",
   "id": "46d58b2e",
   "metadata": {},
   "source": [
    "## Mandatory Functions"
   ]
  },
  {
   "cell_type": "code",
   "execution_count": 2,
   "id": "b320906e",
   "metadata": {},
   "outputs": [],
   "source": [
    "def myName():\n",
    "    #Function returns my name\n",
    "    return 'Austin Rasberry'"
   ]
  },
  {
   "cell_type": "code",
   "execution_count": 3,
   "id": "e03ffd70",
   "metadata": {},
   "outputs": [],
   "source": [
    "def myBlazerID():\n",
    "    #Function returns my BlazerId\n",
    "    return 'arasberr'"
   ]
  },
  {
   "cell_type": "code",
   "execution_count": 14,
   "id": "39eb2ebf",
   "metadata": {},
   "outputs": [],
   "source": [
    "def myBio():\n",
    "    #Function calls the two bio functions and combines them with a string \n",
    "    print('My name is = ' + myName() + ' and my BlazerId is = ' + myBlazerID())"
   ]
  },
  {
   "cell_type": "code",
   "execution_count": 15,
   "id": "0ccf3280",
   "metadata": {},
   "outputs": [
    {
     "name": "stdout",
     "output_type": "stream",
     "text": [
      "My name is = Austin Rasberry and my BlazerId is = arasberr\n"
     ]
    }
   ],
   "source": [
    "myBio()"
   ]
  },
  {
   "cell_type": "markdown",
   "id": "a17945f1",
   "metadata": {},
   "source": [
    "## Problem 1"
   ]
  },
  {
   "cell_type": "code",
   "execution_count": 150,
   "id": "db2daf76",
   "metadata": {},
   "outputs": [],
   "source": [
    "def isOdd(n1):\n",
    "    # Function takes a value and returns true if value is an int and odd, otherwise it returns false\n",
    "    if n1%2 != 0 and type(n1) == int:\n",
    "        return True\n",
    "    else:\n",
    "        return False"
   ]
  },
  {
   "cell_type": "code",
   "execution_count": 151,
   "id": "713ff6a0",
   "metadata": {},
   "outputs": [
    {
     "data": {
      "text/plain": [
       "True"
      ]
     },
     "execution_count": 151,
     "metadata": {},
     "output_type": "execute_result"
    }
   ],
   "source": [
    "isOdd(5)"
   ]
  },
  {
   "cell_type": "code",
   "execution_count": 152,
   "id": "07125fe4",
   "metadata": {},
   "outputs": [
    {
     "data": {
      "text/plain": [
       "False"
      ]
     },
     "execution_count": 152,
     "metadata": {},
     "output_type": "execute_result"
    }
   ],
   "source": [
    "isOdd(6)"
   ]
  },
  {
   "cell_type": "code",
   "execution_count": 153,
   "id": "fafcc55d",
   "metadata": {},
   "outputs": [
    {
     "data": {
      "text/plain": [
       "False"
      ]
     },
     "execution_count": 153,
     "metadata": {},
     "output_type": "execute_result"
    }
   ],
   "source": [
    "isOdd(5.1)"
   ]
  },
  {
   "cell_type": "markdown",
   "id": "905e1b88",
   "metadata": {},
   "source": [
    "## Problem 2"
   ]
  },
  {
   "cell_type": "code",
   "execution_count": 156,
   "id": "dd8a4150",
   "metadata": {},
   "outputs": [],
   "source": [
    "def paintTheRoom (length,width,height):\n",
    "    '''\n",
    "    Function takes 3 values, the first is wall length, the second is wall width, the third is wall height\n",
    "    and calculates the area of each wall and ceiling, adds them together, divides by the amount of paint \n",
    "    in one can and returns how many cans is needed to paint that much area.\n",
    "    '''\n",
    "    wall1 = 0\n",
    "    wall2 = 0\n",
    "    ceiling = 0\n",
    "    wall1 = length * height \n",
    "    wall2 = width * height\n",
    "    ceiling = length * width\n",
    "    area = (wall1*2)+(wall2*2)+ceiling\n",
    "    return math.ceil(area/400)"
   ]
  },
  {
   "cell_type": "code",
   "execution_count": 157,
   "id": "ceb799c0",
   "metadata": {},
   "outputs": [
    {
     "data": {
      "text/plain": [
       "2"
      ]
     },
     "execution_count": 157,
     "metadata": {},
     "output_type": "execute_result"
    }
   ],
   "source": [
    "paintTheRoom(10,12,8)"
   ]
  },
  {
   "cell_type": "markdown",
   "id": "f07a0910",
   "metadata": {},
   "source": [
    "### Problem 3"
   ]
  },
  {
   "cell_type": "code",
   "execution_count": 148,
   "id": "63e6f226",
   "metadata": {},
   "outputs": [],
   "source": [
    "def sumToMagic(listOfInt, magicSum):\n",
    "    '''\n",
    "    The function takes a list, adds each number in the list to each other number in the list, if the result is\n",
    "    equal to the magic sum it returns where in the list each of the numbers is located.\n",
    "    '''\n",
    "    positionOfN = 0 \n",
    "    for n in range(0,len(listOfInt)):\n",
    "        for m in range(0,len(listOfInt)):\n",
    "            if listOfInt[n]+listOfInt[m] == magicSum:\n",
    "                return('(' + str(n) + ',' + str(m) + ')')"
   ]
  },
  {
   "cell_type": "code",
   "execution_count": 149,
   "id": "ce3f3056",
   "metadata": {},
   "outputs": [
    {
     "data": {
      "text/plain": [
       "'(0,2)'"
      ]
     },
     "execution_count": 149,
     "metadata": {},
     "output_type": "execute_result"
    }
   ],
   "source": [
    "sumToMagic((8,16,22,35),30)"
   ]
  },
  {
   "cell_type": "markdown",
   "id": "27b70f1b",
   "metadata": {},
   "source": [
    "### Problem 4"
   ]
  },
  {
   "cell_type": "code",
   "execution_count": 159,
   "id": "acbd21b7",
   "metadata": {},
   "outputs": [],
   "source": [
    "def tupleCounter(t):\n",
    "    # Checks if each number in a tuple is odd, and returns how many odd numbers are in the tuple.\n",
    "    dm = 0\n",
    "    for n in range(0,len(t)+1):\n",
    "        if n%2 != 0:\n",
    "            dm += 1\n",
    "    return(dm)"
   ]
  },
  {
   "cell_type": "code",
   "execution_count": 160,
   "id": "751dabd3",
   "metadata": {},
   "outputs": [
    {
     "data": {
      "text/plain": [
       "4"
      ]
     },
     "execution_count": 160,
     "metadata": {},
     "output_type": "execute_result"
    }
   ],
   "source": [
    "tupleCounter((2,4,6,7,9,121,1))"
   ]
  },
  {
   "cell_type": "markdown",
   "id": "1861dc29",
   "metadata": {},
   "source": [
    "### Problem 5"
   ]
  },
  {
   "cell_type": "code",
   "execution_count": 161,
   "id": "1ca93e4d",
   "metadata": {},
   "outputs": [],
   "source": [
    "def smallerThanIndex(listOfNumbers):\n",
    "    #Checks each value in a string against its index value and returns how many are below their index value\n",
    "    length = len(listOfNumbers)\n",
    "    dm = 0\n",
    "    for n in range(0,len(listOfNumbers)):\n",
    "        if listOfNumbers[n] < n:\n",
    "            dm += 1\n",
    "    return(dm)"
   ]
  },
  {
   "cell_type": "code",
   "execution_count": 50,
   "id": "3448ec01",
   "metadata": {},
   "outputs": [
    {
     "data": {
      "text/plain": [
       "2"
      ]
     },
     "execution_count": 50,
     "metadata": {},
     "output_type": "execute_result"
    }
   ],
   "source": [
    "smallerThanIndex((10,20,1,2,30))"
   ]
  },
  {
   "cell_type": "code",
   "execution_count": 51,
   "id": "3d8d4e45",
   "metadata": {},
   "outputs": [
    {
     "data": {
      "text/plain": [
       "1"
      ]
     },
     "execution_count": 51,
     "metadata": {},
     "output_type": "execute_result"
    }
   ],
   "source": [
    "smallerThanIndex((1,2,0,44,29,309))"
   ]
  },
  {
   "cell_type": "code",
   "execution_count": 52,
   "id": "87576f5b",
   "metadata": {},
   "outputs": [
    {
     "data": {
      "text/plain": [
       "4"
      ]
     },
     "execution_count": 52,
     "metadata": {},
     "output_type": "execute_result"
    }
   ],
   "source": [
    "smallerThanIndex((-4,-3,2,1,0))"
   ]
  }
 ],
 "metadata": {
  "kernelspec": {
   "display_name": "Python 3",
   "language": "python",
   "name": "python3"
  },
  "language_info": {
   "codemirror_mode": {
    "name": "ipython",
    "version": 3
   },
   "file_extension": ".py",
   "mimetype": "text/x-python",
   "name": "python",
   "nbconvert_exporter": "python",
   "pygments_lexer": "ipython3",
   "version": "3.8.8"
  }
 },
 "nbformat": 4,
 "nbformat_minor": 5
}
