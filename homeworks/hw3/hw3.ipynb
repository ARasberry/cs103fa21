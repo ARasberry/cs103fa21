{
 "cells": [
  {
   "cell_type": "code",
   "execution_count": 206,
   "id": "1f1b7f83",
   "metadata": {},
   "outputs": [],
   "source": [
    "import math"
   ]
  },
  {
   "cell_type": "code",
   "execution_count": 1,
   "id": "a183e511",
   "metadata": {},
   "outputs": [],
   "source": [
    "def myName():\n",
    "    #Function returns my name\n",
    "    return 'Austin Rasberry'"
   ]
  },
  {
   "cell_type": "code",
   "execution_count": 2,
   "id": "073806d4",
   "metadata": {},
   "outputs": [],
   "source": [
    "def myBlazerID():\n",
    "    #Function returns my BlazerId\n",
    "    return 'arasberr'"
   ]
  },
  {
   "cell_type": "code",
   "execution_count": 3,
   "id": "97fae885",
   "metadata": {},
   "outputs": [],
   "source": [
    "def myBio():\n",
    "    #Function calls the two bio functions and combines them with a string \n",
    "    print('My name is = ' + myName() + ' and my BlazerId is = ' + myBlazerID())"
   ]
  },
  {
   "cell_type": "code",
   "execution_count": 4,
   "id": "13a19cc0",
   "metadata": {},
   "outputs": [
    {
     "name": "stdout",
     "output_type": "stream",
     "text": [
      "My name is = Austin Rasberry and my BlazerId is = arasberr\n"
     ]
    }
   ],
   "source": [
    "myBio()"
   ]
  },
  {
   "cell_type": "code",
   "execution_count": 72,
   "id": "df9f0b9d",
   "metadata": {},
   "outputs": [],
   "source": [
    "def reverseNum(n):\n",
    "    newString = ''\n",
    "    s = str(n)\n",
    "    for i in range(0,len(s)):\n",
    "        newString += s[len(s)-i-1]\n",
    "    return newString"
   ]
  },
  {
   "cell_type": "code",
   "execution_count": 74,
   "id": "1a250d30",
   "metadata": {},
   "outputs": [
    {
     "data": {
      "text/plain": [
       "'69789084321'"
      ]
     },
     "execution_count": 74,
     "metadata": {},
     "output_type": "execute_result"
    }
   ],
   "source": [
    "reverseNum(12348098796)"
   ]
  },
  {
   "cell_type": "code",
   "execution_count": 201,
   "id": "0e4115a2",
   "metadata": {},
   "outputs": [],
   "source": [
    "def squareOfDigits(s):\n",
    "    newInt = 0\n",
    "    newNewInt = 0\n",
    "    for n in range(0,len(s)):\n",
    "        if s[n] == type(int) :\n",
    "            newInt += s[n]\n",
    "        else:\n",
    "            continue\n",
    "    newNewInt = newInt**2\n",
    "    return newNewInt"
   ]
  },
  {
   "cell_type": "code",
   "execution_count": 202,
   "id": "99e2f19e",
   "metadata": {},
   "outputs": [
    {
     "data": {
      "text/plain": [
       "0"
      ]
     },
     "execution_count": 202,
     "metadata": {},
     "output_type": "execute_result"
    }
   ],
   "source": [
    "squareOfDigits('num=10') "
   ]
  },
  {
   "cell_type": "code",
   "execution_count": 235,
   "id": "e8ac6109",
   "metadata": {},
   "outputs": [],
   "source": [
    "def divideCircleEqual(r, numberOfPoints):\n",
    "    degreeOfDivisions = (2*math.pi)/numberOfPoints\n",
    "    listOfPoints = [0]\n",
    "    x = 0\n",
    "    y =0\n",
    "    point = [0]\n",
    "    for n in range (1,numberOfPoints+1):\n",
    "        x = r*math.sin((r*(2*math.pi)/n))\n",
    "        y = r*math.cos((r*(2*math.pi)/n))\n",
    "        point = [x,y]\n",
    "        listOfPoints.append(point)\n",
    "    return listOfPoints"
   ]
  },
  {
   "cell_type": "code",
   "execution_count": 236,
   "id": "04c4ef0b",
   "metadata": {},
   "outputs": [
    {
     "data": {
      "text/plain": [
       "[0,\n",
       " [-2.4492935982947064e-14, 10.0],\n",
       " [-1.2246467991473532e-14, 10.0],\n",
       " [8.660254037844386, -5.0000000000000036],\n",
       " [6.123233995736766e-15, -10.0],\n",
       " [-4.898587196589413e-15, 10.0],\n",
       " [-8.660254037844387, -4.999999999999998],\n",
       " [4.338837391175584, -9.009688679024189],\n",
       " [10.0, 3.061616997868383e-15],\n",
       " [6.4278760968653925, 7.660444431189781],\n",
       " [-2.4492935982947065e-15, 10.0]]"
      ]
     },
     "execution_count": 236,
     "metadata": {},
     "output_type": "execute_result"
    }
   ],
   "source": [
    "divideCircleEqual(10,10)"
   ]
  },
  {
   "cell_type": "code",
   "execution_count": 252,
   "id": "7aab3dc6",
   "metadata": {},
   "outputs": [],
   "source": [
    "def drawTheCircle(points):\n",
    "    xCoordinates,yCoordinates=[],[]\n",
    "    for i in range(len(points)):\n",
    "        xCoordinates.append(points[i][0])\n",
    "        yCoordinates.append(points[i][1])\n",
    "    \n",
    "    import matplotlib.pyplot as plt\n",
    "    %matplotlib inline\n",
    "\n",
    "    plt.rcParams[\"figure.figsize\"] = [10, 10]\n",
    "    plt.rcParams[\"figure.autolayout\"] = True\n",
    "    plt.plot(xCoordinates, yCoordinates, 'r*')  "
   ]
  },
  {
   "cell_type": "code",
   "execution_count": 253,
   "id": "11dd1046",
   "metadata": {},
   "outputs": [],
   "source": [
    "points = [[-2.4492935982947064e-14, 10.0],[-1.2246467991473532e-14, 10.0],[8.660254037844386, -5.0000000000000036],[6.123233995736766e-15, -10.0],[-4.898587196589413e-15, 10.0],[-8.660254037844387, -4.999999999999998],[4.338837391175584, -9.009688679024189],[10.0, 3.061616997868383e-15],[6.4278760968653925, 7.660444431189781],[-2.4492935982947065e-15, 10.0]]"
   ]
  },
  {
   "cell_type": "code",
   "execution_count": 254,
   "id": "6830cb43",
   "metadata": {},
   "outputs": [
    {
     "data": {
      "image/png": "[encoded data removed]",
      "text/plain": [
       "<Figure size 720x720 with 1 Axes>"
      ]
     },
     "metadata": {
      "needs_background": "light"
     },
     "output_type": "display_data"
    }
   ],
   "source": [
    "drawTheCircle(points)"
   ]
  },
  {
   "cell_type": "code",
   "execution_count": 250,
   "id": "37ee0bad",
   "metadata": {},
   "outputs": [],
   "source": [
    "def cubeOfOdd(n2):\n",
    "    cube = 0\n",
    "    for n in range(0,n2):\n",
    "        if n%2 != 0:\n",
    "            cube = n**3\n",
    "            print(cube)"
   ]
  },
  {
   "cell_type": "code",
   "execution_count": 107,
   "id": "3adb5daf",
   "metadata": {},
   "outputs": [
    {
     "name": "stdout",
     "output_type": "stream",
     "text": [
      "1\n",
      "27\n",
      "125\n",
      "343\n"
     ]
    }
   ],
   "source": [
    "cubeOfOdd(8)"
   ]
  },
  {
   "cell_type": "code",
   "execution_count": 136,
   "id": "d1d86fe8",
   "metadata": {},
   "outputs": [],
   "source": [
    "def gcDivisor(k,m):\n",
    "    gcf = 0\n",
    "    for n in range(1,k+m*2):\n",
    "        if m%n == 0 and k%n == 0 and n != 0:\n",
    "            gcf = n\n",
    "    return(gcf)"
   ]
  },
  {
   "cell_type": "code",
   "execution_count": 137,
   "id": "35b488b9",
   "metadata": {},
   "outputs": [
    {
     "data": {
      "text/plain": [
       "27"
      ]
     },
     "execution_count": 137,
     "metadata": {},
     "output_type": "execute_result"
    }
   ],
   "source": [
    "gcDivisor(54, 81)"
   ]
  },
  {
   "cell_type": "code",
   "execution_count": null,
   "id": "35613e3c",
   "metadata": {},
   "outputs": [],
   "source": []
  },
  {
   "cell_type": "code",
   "execution_count": null,
   "id": "87de9877",
   "metadata": {},
   "outputs": [],
   "source": []
  }
 ],
 "metadata": {
  "kernelspec": {
   "display_name": "Python 3",
   "language": "python",
   "name": "python3"
  },
  "language_info": {
   "codemirror_mode": {
    "name": "ipython",
    "version": 3
   },
   "file_extension": ".py",
   "mimetype": "text/x-python",
   "name": "python",
   "nbconvert_exporter": "python",
   "pygments_lexer": "ipython3",
   "version": "3.8.8"
  }
 },
 "nbformat": 4,
 "nbformat_minor": 5
}
