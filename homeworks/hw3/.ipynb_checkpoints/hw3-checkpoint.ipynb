{
 "cells": [
  {
   "cell_type": "code",
   "execution_count": 1,
   "id": "0647d378",
   "metadata": {},
   "outputs": [],
   "source": [
    "def myName():\n",
    "    #Function returns my name\n",
    "    return 'Austin Rasberry'"
   ]
  },
  {
   "cell_type": "code",
   "execution_count": 2,
   "id": "f2b361e0",
   "metadata": {},
   "outputs": [],
   "source": [
    "def myBlazerID():\n",
    "    #Function returns my BlazerId\n",
    "    return 'arasberr'"
   ]
  },
  {
   "cell_type": "code",
   "execution_count": 3,
   "id": "b729dfec",
   "metadata": {},
   "outputs": [],
   "source": [
    "def myBio():\n",
    "    #Function calls the two bio functions and combines them with a string \n",
    "    print('My name is = ' + myName() + ' and my BlazerId is = ' + myBlazerID())"
   ]
  },
  {
   "cell_type": "code",
   "execution_count": 4,
   "id": "3a6d9116",
   "metadata": {},
   "outputs": [
    {
     "name": "stdout",
     "output_type": "stream",
     "text": [
      "My name is = Austin Rasberry and my BlazerId is = arasberr\n"
     ]
    }
   ],
   "source": [
    "myBio()"
   ]
  },
  {
   "cell_type": "code",
   "execution_count": 72,
   "id": "e034b9dd",
   "metadata": {},
   "outputs": [],
   "source": [
    "def reverseNum(n):\n",
    "    newString = ''\n",
    "    s = str(n)\n",
    "    for i in range(0,len(s)):\n",
    "        newString += s[len(s)-i-1]\n",
    "    return newString"
   ]
  },
  {
   "cell_type": "code",
   "execution_count": 74,
   "id": "636b80bf",
   "metadata": {},
   "outputs": [
    {
     "data": {
      "text/plain": [
       "'69789084321'"
      ]
     },
     "execution_count": 74,
     "metadata": {},
     "output_type": "execute_result"
    }
   ],
   "source": [
    "reverseNum(12348098796)"
   ]
  },
  {
   "cell_type": "code",
   "execution_count": 95,
   "id": "ae1ec01f",
   "metadata": {},
   "outputs": [],
   "source": [
    "def squareOfDigits(s):\n",
    "    newInt = 0\n",
    "    newNewInt = 0\n",
    "    for n in range(0,len(s)):\n",
    "        if type(s[n]) == int:\n",
    "            s[n] = int\n",
    "            newInt += s[n]\n",
    "        else:\n",
    "            continue \n",
    "    newInt = newInt**2\n",
    "    newNewInt = str(newInt)\n",
    "    return newNewInt"
   ]
  },
  {
   "cell_type": "code",
   "execution_count": 96,
   "id": "bb4757bf",
   "metadata": {},
   "outputs": [
    {
     "data": {
      "text/plain": [
       "'0'"
      ]
     },
     "execution_count": 96,
     "metadata": {},
     "output_type": "execute_result"
    }
   ],
   "source": [
    "squareOfDigits('num=10')"
   ]
  },
  {
   "cell_type": "code",
   "execution_count": 105,
   "id": "f84ae104",
   "metadata": {},
   "outputs": [],
   "source": [
    "def cubeOfOdd(n2):\n",
    "    cube = 0\n",
    "    for n in range(0,n2):\n",
    "        if n%2 != 0:\n",
    "            cube = n**3\n",
    "            print(cube)"
   ]
  },
  {
   "cell_type": "code",
   "execution_count": 107,
   "id": "b4bc6dc6",
   "metadata": {},
   "outputs": [
    {
     "name": "stdout",
     "output_type": "stream",
     "text": [
      "1\n",
      "27\n",
      "125\n",
      "343\n"
     ]
    }
   ],
   "source": [
    "cubeOfOdd(8)"
   ]
  },
  {
   "cell_type": "code",
   "execution_count": 121,
   "id": "5eecb9f9",
   "metadata": {},
   "outputs": [],
   "source": [
    "def gcDivisor(k,m):\n",
    "    gcf = 0\n",
    "    for n in range(1,m):\n",
    "        if n%m == 0 and n%k == 0 and n != 0:\n",
    "            gcf = n\n",
    "        return(gcf)"
   ]
  },
  {
   "cell_type": "code",
   "execution_count": 122,
   "id": "5dc02a6c",
   "metadata": {},
   "outputs": [
    {
     "data": {
      "text/plain": [
       "0"
      ]
     },
     "execution_count": 122,
     "metadata": {},
     "output_type": "execute_result"
    }
   ],
   "source": [
    "gcDivisor(3, 6)"
   ]
  },
  {
   "cell_type": "code",
   "execution_count": null,
   "id": "4ffd0358",
   "metadata": {},
   "outputs": [],
   "source": []
  },
  {
   "cell_type": "code",
   "execution_count": null,
   "id": "97663b5c",
   "metadata": {},
   "outputs": [],
   "source": []
  }
 ],
 "metadata": {
  "kernelspec": {
   "display_name": "Python 3",
   "language": "python",
   "name": "python3"
  },
  "language_info": {
   "codemirror_mode": {
    "name": "ipython",
    "version": 3
   },
   "file_extension": ".py",
   "mimetype": "text/x-python",
   "name": "python",
   "nbconvert_exporter": "python",
   "pygments_lexer": "ipython3",
   "version": "3.8.8"
  }
 },
 "nbformat": 4,
 "nbformat_minor": 5
}
