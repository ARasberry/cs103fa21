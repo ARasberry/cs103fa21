{
 "cells": [
  {
   "cell_type": "markdown",
   "id": "327ac0e2",
   "metadata": {},
   "source": [
    "# Lab08\n",
    "## Austin Rasberry\n",
    "## Arasberr"
   ]
  },
  {
   "cell_type": "markdown",
   "id": "d1ed3f40",
   "metadata": {},
   "source": [
    "### Excersizes"
   ]
  },
  {
   "cell_type": "markdown",
   "id": "d70b330f",
   "metadata": {},
   "source": [
    "#### Excersize 1"
   ]
  },
  {
   "cell_type": "code",
   "execution_count": 128,
   "id": "e35f5ec3",
   "metadata": {},
   "outputs": [],
   "source": [
    "def listCheckAndSort(L):\n",
    "    GtoL = [0]\n",
    "    LtoG = [0]\n",
    "    for n in range (0,len(L)):\n",
    "        if L[n] >= -20 and L[n] < 20 :\n",
    "            GtoL.append(L[n])\n",
    "            LtoG.append(L[n])\n",
    "            LtoG.sort()\n",
    "            GtoL.sort(reverse=True)\n",
    "    return LtoG, GtoL"
   ]
  },
  {
   "cell_type": "code",
   "execution_count": 129,
   "id": "a7fc32b9",
   "metadata": {},
   "outputs": [
    {
     "data": {
      "text/plain": [
       "([-18, -16, -3, 0, 0, 1, 2, 6, 18, 18], [18, 18, 6, 2, 1, 0, 0, -3, -16, -18])"
      ]
     },
     "execution_count": 129,
     "metadata": {},
     "output_type": "execute_result"
    }
   ],
   "source": [
    "listCheckAndSort([2,-16,6,77,100,-3,62,18,0,123,1,18,-18])"
   ]
  },
  {
   "cell_type": "markdown",
   "id": "b7dc7cc5",
   "metadata": {},
   "source": [
    "#### Excersize 2"
   ]
  },
  {
   "cell_type": "code",
   "execution_count": 139,
   "id": "d7559b8f",
   "metadata": {},
   "outputs": [],
   "source": [
    "def finalGrade(classList):\n",
    "    attendance = 0\n",
    "    exams = 0\n",
    "    homework = 0\n",
    "    for n in range (0,len(classList)):\n",
    "        attendance += (classList[n][0])\n",
    "        exams += (classList[n][1])\n",
    "        homework += (classList[n][2])\n",
    "    attendance = attendance/len(classList)\n",
    "    exams = exams/len(classList)\n",
    "    homework = homework/len(classList)\n",
    "    return attendance,exams,homework"
   ]
  },
  {
   "cell_type": "code",
   "execution_count": 140,
   "id": "d00a7226",
   "metadata": {},
   "outputs": [
    {
     "data": {
      "text/plain": [
       "(17.0, 79.0, 71.25)"
      ]
     },
     "execution_count": 140,
     "metadata": {},
     "output_type": "execute_result"
    }
   ],
   "source": [
    "finalGrade([[20,80,90], [10,60,40], [17, 77,56], [21,99,99]])"
   ]
  },
  {
   "cell_type": "markdown",
   "id": "d50cd842",
   "metadata": {},
   "source": [
    "#### Excersize 3"
   ]
  },
  {
   "cell_type": "code",
   "execution_count": null,
   "id": "54277790",
   "metadata": {},
   "outputs": [],
   "source": [
    "def listCompare(L1,L2):\n",
    "    madeMiss = []\n",
    "    madeExtra = []\n",
    "    seperator = ', '\n",
    "    for n in range(0,len(L1)):\n",
    "        if L1[n] not in L2:\n",
    "            madeMiss.append(L1[n])\n",
    "            printMiss = seperator.join(madeMiss)\n",
    "        if L2[n] not in L1:\n",
    "                madeExtra.append(L2[n])\n",
    "                printExtra = seperator.join(madeExtra)\n",
    "                \n",
    "    print('The missing values: ' + str(printMiss))\n",
    "    print('The extra values: ' + str(printExtra))"
   ]
  },
  {
   "cell_type": "code",
   "execution_count": 351,
   "id": "5eb1c796",
   "metadata": {},
   "outputs": [
    {
     "name": "stdout",
     "output_type": "stream",
     "text": [
      "The missing values: a, c\n",
      "The extra values: f, g\n"
     ]
    }
   ],
   "source": [
    "listCompare(['a', 'b', 'c', 'd', 'e'],['b', 'd', 'e', 'f', 'g'])"
   ]
  },
  {
   "cell_type": "markdown",
   "id": "e2cf62ce",
   "metadata": {},
   "source": [
    "### Practice Problems"
   ]
  },
  {
   "cell_type": "markdown",
   "id": "66458946",
   "metadata": {},
   "source": [
    "#### Problem 1"
   ]
  },
  {
   "cell_type": "code",
   "execution_count": 324,
   "id": "8d0806ed",
   "metadata": {},
   "outputs": [],
   "source": [
    "def argmin(L):\n",
    "    min = L[1]\n",
    "    for i in range(1,len(L)):\n",
    "        if L[i] < min:\n",
    "            min = L[i]\n",
    "    return min"
   ]
  },
  {
   "cell_type": "code",
   "execution_count": 328,
   "id": "48d922f8",
   "metadata": {},
   "outputs": [
    {
     "data": {
      "text/plain": [
       "-4"
      ]
     },
     "execution_count": 328,
     "metadata": {},
     "output_type": "execute_result"
    }
   ],
   "source": [
    "argmin([3, 6, 20, 2, 12, -4, 20,])"
   ]
  },
  {
   "cell_type": "markdown",
   "id": "a5057d8b",
   "metadata": {},
   "source": [
    "#### Problem 2"
   ]
  },
  {
   "cell_type": "code",
   "execution_count": 318,
   "id": "31d39bdf",
   "metadata": {},
   "outputs": [],
   "source": [
    "def isPrime(n):\n",
    "    dm = 0\n",
    "    for i in range(1,n+1):\n",
    "        if n%i == 0:\n",
    "            dm += 1\n",
    "    if dm == 2:\n",
    "        return True\n",
    "    else:\n",
    "        return False"
   ]
  },
  {
   "cell_type": "code",
   "execution_count": 319,
   "id": "7f334957",
   "metadata": {},
   "outputs": [
    {
     "data": {
      "text/plain": [
       "True"
      ]
     },
     "execution_count": 319,
     "metadata": {},
     "output_type": "execute_result"
    }
   ],
   "source": [
    "isPrime(2)"
   ]
  },
  {
   "cell_type": "code",
   "execution_count": 320,
   "id": "c9c688ba",
   "metadata": {},
   "outputs": [
    {
     "data": {
      "text/plain": [
       "False"
      ]
     },
     "execution_count": 320,
     "metadata": {},
     "output_type": "execute_result"
    }
   ],
   "source": [
    "isPrime(8)"
   ]
  }
 ],
 "metadata": {
  "kernelspec": {
   "display_name": "Python 3",
   "language": "python",
   "name": "python3"
  },
  "language_info": {
   "codemirror_mode": {
    "name": "ipython",
    "version": 3
   },
   "file_extension": ".py",
   "mimetype": "text/x-python",
   "name": "python",
   "nbconvert_exporter": "python",
   "pygments_lexer": "ipython3",
   "version": "3.8.8"
  }
 },
 "nbformat": 4,
 "nbformat_minor": 5
}
