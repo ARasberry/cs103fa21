{
 "cells": [
  {
   "cell_type": "code",
   "execution_count": 20,
   "id": "bf9b75fd",
   "metadata": {},
   "outputs": [],
   "source": [
    "def isSorted(L):\n",
    "    lLtoG = L[:]\n",
    "    lGtoL = L[:]\n",
    "    if L == lLtoG or L == lGtoL:\n",
    "        print('sorted')\n",
    "    else:\n",
    "        print('unsorted')\n",
    "        \n",
    "    "
   ]
  },
  {
   "cell_type": "code",
   "execution_count": 21,
   "id": "8db214ee",
   "metadata": {},
   "outputs": [
    {
     "name": "stdout",
     "output_type": "stream",
     "text": [
      "sorted\n"
     ]
    }
   ],
   "source": [
    "isSorted([26,8,6,2,1])"
   ]
  },
  {
   "cell_type": "code",
   "execution_count": null,
   "id": "2b2724fd",
   "metadata": {},
   "outputs": [],
   "source": []
  },
  {
   "cell_type": "code",
   "execution_count": null,
   "id": "550ff383",
   "metadata": {},
   "outputs": [],
   "source": []
  }
 ],
 "metadata": {
  "kernelspec": {
   "display_name": "Python 3",
   "language": "python",
   "name": "python3"
  },
  "language_info": {
   "codemirror_mode": {
    "name": "ipython",
    "version": 3
   },
   "file_extension": ".py",
   "mimetype": "text/x-python",
   "name": "python",
   "nbconvert_exporter": "python",
   "pygments_lexer": "ipython3",
   "version": "3.8.8"
  }
 },
 "nbformat": 4,
 "nbformat_minor": 5
}
