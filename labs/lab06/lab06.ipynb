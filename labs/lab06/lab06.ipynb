{
 "cells": [
  {
   "cell_type": "code",
   "execution_count": 15,
   "id": "0cb1fb49",
   "metadata": {},
   "outputs": [],
   "source": [
    "def starLine(n):\n",
    "    dm = '*'\n",
    "    print('*')\n",
    "    for i in range(0,n-1):\n",
    "        dm +='*'\n",
    "        print(dm)\n",
    "    "
   ]
  },
  {
   "cell_type": "code",
   "execution_count": 16,
   "id": "eedfdc5f",
   "metadata": {},
   "outputs": [
    {
     "name": "stdout",
     "output_type": "stream",
     "text": [
      "*\n",
      "**\n",
      "***\n",
      "****\n",
      "*****\n",
      "******\n",
      "*******\n"
     ]
    }
   ],
   "source": [
    "starLine(7)"
   ]
  },
  {
   "cell_type": "code",
   "execution_count": 17,
   "id": "06a62dc4",
   "metadata": {},
   "outputs": [
    {
     "name": "stdout",
     "output_type": "stream",
     "text": [
      "*\n",
      "**\n",
      "***\n"
     ]
    }
   ],
   "source": [
    "starLine(3)"
   ]
  },
  {
   "cell_type": "code",
   "execution_count": 18,
   "id": "7c3ddf03",
   "metadata": {},
   "outputs": [
    {
     "name": "stdout",
     "output_type": "stream",
     "text": [
      "*\n"
     ]
    }
   ],
   "source": [
    "starLine(1)"
   ]
  },
  {
   "cell_type": "code",
   "execution_count": 19,
   "id": "5a7e1bd2",
   "metadata": {},
   "outputs": [],
   "source": [
    "def cashier(c):\n",
    "    price = 0\n",
    "    tax = 0\n",
    "    itemPrice = 0\n",
    "    for n in range(1,c+1):\n",
    "        print('for item ' + str(n))\n",
    "        price = float(input('Enter Price '))\n",
    "        tax = float(input('Enter Tax Rate '))\n",
    "        itemPrice += price * ((tax / 100) + 1)\n",
    "        print(itemPrice)"
   ]
  },
  {
   "cell_type": "code",
   "execution_count": 20,
   "id": "c58ff06f",
   "metadata": {},
   "outputs": [
    {
     "name": "stdout",
     "output_type": "stream",
     "text": [
      "for item 1\n",
      "Enter Price 23\n",
      "Enter Tax Rate 2\n",
      "23.46\n",
      "for item 2\n",
      "Enter Price 32\n",
      "Enter Tax Rate 3\n",
      "56.42\n"
     ]
    }
   ],
   "source": [
    "cashier(2)"
   ]
  },
  {
   "cell_type": "code",
   "execution_count": 21,
   "id": "6bb00cb7",
   "metadata": {},
   "outputs": [],
   "source": [
    "def stringPair(s1,s2):\n",
    "    for n in range(0,len(s1)):\n",
    "        print(s1[n],s2[n])"
   ]
  },
  {
   "cell_type": "code",
   "execution_count": 22,
   "id": "0cd165fb",
   "metadata": {},
   "outputs": [
    {
     "name": "stdout",
     "output_type": "stream",
     "text": [
      "a x\n",
      "b y\n",
      "c z\n"
     ]
    }
   ],
   "source": [
    "stringPair('abc', 'xyz')"
   ]
  },
  {
   "cell_type": "code",
   "execution_count": 23,
   "id": "77ad56ce",
   "metadata": {},
   "outputs": [],
   "source": [
    "def stringBlenders(s1):\n",
    "    if len(s1)>= 3:\n",
    "        start = str(s1[0]+s1[1]+s1[2])\n",
    "        end = str(s1[-3]+s1[-2]+s1[-1])\n",
    "        return str(start + end)\n",
    "    else:\n",
    "        return \"\"\n"
   ]
  },
  {
   "cell_type": "code",
   "execution_count": 24,
   "id": "1f1a3c79",
   "metadata": {},
   "outputs": [
    {
     "data": {
      "text/plain": [
       "'uab019'"
      ]
     },
     "execution_count": 24,
     "metadata": {},
     "output_type": "execute_result"
    }
   ],
   "source": [
    "stringBlenders('uabcs2019')"
   ]
  },
  {
   "cell_type": "code",
   "execution_count": 25,
   "id": "1517197b",
   "metadata": {},
   "outputs": [
    {
     "data": {
      "text/plain": [
       "'uabuab'"
      ]
     },
     "execution_count": 25,
     "metadata": {},
     "output_type": "execute_result"
    }
   ],
   "source": [
    "stringBlenders('uab')"
   ]
  },
  {
   "cell_type": "code",
   "execution_count": 26,
   "id": "8a76f5e9",
   "metadata": {},
   "outputs": [
    {
     "data": {
      "text/plain": [
       "''"
      ]
     },
     "execution_count": 26,
     "metadata": {},
     "output_type": "execute_result"
    }
   ],
   "source": [
    "stringBlenders('ua')"
   ]
  },
  {
   "cell_type": "code",
   "execution_count": 33,
   "id": "e0895725",
   "metadata": {},
   "outputs": [],
   "source": [
    "def sConcatenate():\n",
    "    n = True\n",
    "    beegString = ''\n",
    "    while n:\n",
    "        string = input()\n",
    "        if string == 'done':\n",
    "            n = False\n",
    "            print(beegString)\n",
    "        else: \n",
    "            beegString += string"
   ]
  },
  {
   "cell_type": "code",
   "execution_count": 35,
   "id": "baad52ab",
   "metadata": {},
   "outputs": [
    {
     "name": "stdout",
     "output_type": "stream",
     "text": [
      "I \n",
      "play\n",
      "pokemon\n",
      "go\n",
      "everyday\n",
      "done\n",
      "I playpokemongoeveryday\n"
     ]
    }
   ],
   "source": [
    "sConcatenate()"
   ]
  },
  {
   "cell_type": "code",
   "execution_count": null,
   "id": "2242b827",
   "metadata": {},
   "outputs": [],
   "source": []
  },
  {
   "cell_type": "code",
   "execution_count": null,
   "id": "68868e82",
   "metadata": {},
   "outputs": [],
   "source": []
  },
  {
   "cell_type": "code",
   "execution_count": null,
   "id": "f6debb1c",
   "metadata": {},
   "outputs": [],
   "source": []
  }
 ],
 "metadata": {
  "kernelspec": {
   "display_name": "Python 3",
   "language": "python",
   "name": "python3"
  }
 },
 "nbformat": 4,
 "nbformat_minor": 5
}
