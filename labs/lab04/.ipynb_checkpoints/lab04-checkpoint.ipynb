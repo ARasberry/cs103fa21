{
 "cells": [
  {
   "cell_type": "markdown",
   "id": "a019364b",
   "metadata": {},
   "source": [
    "# Austin Rasberry\n",
    "## arasberr\n",
    "## lab04\n"
   ]
  },
  {
   "cell_type": "markdown",
   "id": "0baf9edb",
   "metadata": {},
   "source": [
    "### Exercises"
   ]
  },
  {
   "cell_type": "code",
   "execution_count": 23,
   "id": "c24a1b78",
   "metadata": {},
   "outputs": [],
   "source": [
    "def myName(firstName, lastName):\n",
    "    return firstName + \" \" + lastName"
   ]
  },
  {
   "cell_type": "code",
   "execution_count": 27,
   "id": "1bf1353e",
   "metadata": {},
   "outputs": [
    {
     "name": "stdout",
     "output_type": "stream",
     "text": [
      "Mahmut Unan\n"
     ]
    }
   ],
   "source": [
    "print(myName('Mahmut', 'Unan'))"
   ]
  },
  {
   "cell_type": "code",
   "execution_count": 48,
   "id": "b19abb26",
   "metadata": {},
   "outputs": [],
   "source": [
    "def myAge(year):\n",
    "    return str(2021-year)"
   ]
  },
  {
   "cell_type": "code",
   "execution_count": 49,
   "id": "d63c424b",
   "metadata": {},
   "outputs": [
    {
     "data": {
      "text/plain": [
       "'100'"
      ]
     },
     "execution_count": 49,
     "metadata": {},
     "output_type": "execute_result"
    }
   ],
   "source": [
    "myAge(1921)"
   ]
  },
  {
   "cell_type": "code",
   "execution_count": 53,
   "id": "6412eac1",
   "metadata": {},
   "outputs": [],
   "source": [
    "def myDepartment(department):\n",
    "    if department == 'CS':\n",
    "        return 'Computer Science'\n",
    "    elif department == 'DS':\n",
    "        return 'Data Science'\n",
    "    elif department == 'BIF':\n",
    "        return 'Bioinformatics'\n",
    "    else:\n",
    "        return 'error: please try again'"
   ]
  },
  {
   "cell_type": "code",
   "execution_count": 54,
   "id": "cde76c34",
   "metadata": {},
   "outputs": [
    {
     "name": "stdout",
     "output_type": "stream",
     "text": [
      "Computer Science\n"
     ]
    }
   ],
   "source": [
    "print(myDepartment('CS'))"
   ]
  },
  {
   "cell_type": "code",
   "execution_count": 58,
   "id": "be3152f4",
   "metadata": {},
   "outputs": [],
   "source": [
    "def whoAmI(firstName, lastName, year, department):\n",
    "    return('Hello there. My name is ' + myName(firstName, lastName) + ' and I am ' + myAge(year) + ' years old. I work in the ' + myDepartment(department) + ' department')"
   ]
  },
  {
   "cell_type": "code",
   "execution_count": 59,
   "id": "d779e4fe",
   "metadata": {},
   "outputs": [
    {
     "name": "stdout",
     "output_type": "stream",
     "text": [
      "Hello there. My name is Mahmut Unan and I am 100 years old. I work in the Computer Science department\n"
     ]
    }
   ],
   "source": [
    "print(whoAmI('Mahmut','Unan',1921,'CS'))"
   ]
  },
  {
   "cell_type": "markdown",
   "id": "1807315b",
   "metadata": {},
   "source": [
    "### Practice Problems"
   ]
  },
  {
   "cell_type": "code",
   "execution_count": 2,
   "id": "a46cb5bc",
   "metadata": {},
   "outputs": [],
   "source": [
    "def squareOrNot (length,width):\n",
    "    if length == width:\n",
    "        return True\n",
    "    else:\n",
    "        return False"
   ]
  },
  {
   "cell_type": "code",
   "execution_count": 5,
   "id": "850f38fc",
   "metadata": {},
   "outputs": [
    {
     "data": {
      "text/plain": [
       "False"
      ]
     },
     "execution_count": 5,
     "metadata": {},
     "output_type": "execute_result"
    }
   ],
   "source": [
    "squareOrNot (20,5)"
   ]
  },
  {
   "cell_type": "code",
   "execution_count": 80,
   "id": "b78b503f",
   "metadata": {},
   "outputs": [],
   "source": [
    "def stringChanger(s):\n",
    "    if s[len(s)-3:len(s)] == 'ing':\n",
    "        return s +'ly'\n",
    "    elif len(s) < 3:\n",
    "        return s\n",
    "    else:\n",
    "        return (s+'ing')"
   ]
  },
  {
   "cell_type": "code",
   "execution_count": 81,
   "id": "1bcdb834",
   "metadata": {},
   "outputs": [
    {
     "name": "stdout",
     "output_type": "stream",
     "text": [
      "staggeringly\n"
     ]
    }
   ],
   "source": [
    "print(stringChanger('staggering'))"
   ]
  },
  {
   "cell_type": "code",
   "execution_count": 82,
   "id": "0f395c22",
   "metadata": {},
   "outputs": [
    {
     "name": "stdout",
     "output_type": "stream",
     "text": [
      "targeting\n"
     ]
    }
   ],
   "source": [
    "print(stringChanger('target'))"
   ]
  },
  {
   "cell_type": "code",
   "execution_count": 84,
   "id": "daccaee9",
   "metadata": {},
   "outputs": [
    {
     "name": "stdout",
     "output_type": "stream",
     "text": [
      "cs\n"
     ]
    }
   ],
   "source": [
    "print(stringChanger('cs'))"
   ]
  }
 ],
 "metadata": {
  "kernelspec": {
   "display_name": "Python 3",
   "language": "python",
   "name": "python3"
  },
  "language_info": {
   "codemirror_mode": {
    "name": "ipython",
    "version": 3
   },
   "file_extension": ".py",
   "mimetype": "text/x-python",
   "name": "python",
   "nbconvert_exporter": "python",
   "pygments_lexer": "ipython3",
   "version": "3.8.8"
  }
 },
 "nbformat": 4,
 "nbformat_minor": 5
}
