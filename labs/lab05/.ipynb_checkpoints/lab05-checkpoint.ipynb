{
 "cells": [
  {
   "cell_type": "markdown",
   "id": "ade8688c",
   "metadata": {},
   "source": [
    "# Austin Rasberry\n",
    "## arasberr\n",
    "## Lab05"
   ]
  },
  {
   "cell_type": "code",
   "execution_count": 11,
   "id": "4e633137",
   "metadata": {},
   "outputs": [],
   "source": [
    "import random"
   ]
  },
  {
   "cell_type": "markdown",
   "id": "e5346c15",
   "metadata": {},
   "source": [
    "### Exercises "
   ]
  },
  {
   "cell_type": "markdown",
   "id": "2855b9f0",
   "metadata": {},
   "source": [
    "#### Exercise 1"
   ]
  },
  {
   "cell_type": "code",
   "execution_count": 67,
   "id": "0db74af1",
   "metadata": {},
   "outputs": [],
   "source": [
    "def evenNumbers(x):\n",
    "    for n in range(0,x+1):\n",
    "        if n%2 == 0:\n",
    "            print(n)\n",
    "\n",
    "       "
   ]
  },
  {
   "cell_type": "code",
   "execution_count": 68,
   "id": "173a125b",
   "metadata": {},
   "outputs": [
    {
     "name": "stdout",
     "output_type": "stream",
     "text": [
      "0\n",
      "2\n",
      "4\n",
      "6\n",
      "8\n",
      "10\n",
      "12\n"
     ]
    }
   ],
   "source": [
    "evenNumbers(12)"
   ]
  },
  {
   "cell_type": "markdown",
   "id": "8da0fb33",
   "metadata": {},
   "source": [
    "#### Exercise 2"
   ]
  },
  {
   "cell_type": "code",
   "execution_count": 50,
   "id": "3684fbae",
   "metadata": {},
   "outputs": [],
   "source": [
    "def factorial(f):\n",
    "    dm = 1\n",
    "    for n in range(1,f+1):\n",
    "       dm *= n\n",
    "    return dm"
   ]
  },
  {
   "cell_type": "code",
   "execution_count": 51,
   "id": "1b06e359",
   "metadata": {},
   "outputs": [
    {
     "data": {
      "text/plain": [
       "720"
      ]
     },
     "execution_count": 51,
     "metadata": {},
     "output_type": "execute_result"
    }
   ],
   "source": [
    "factorial(6)"
   ]
  },
  {
   "cell_type": "markdown",
   "id": "e3ab97f8",
   "metadata": {},
   "source": [
    "#### Exercise 3"
   ]
  },
  {
   "cell_type": "code",
   "execution_count": 136,
   "id": "a07a867a",
   "metadata": {},
   "outputs": [],
   "source": [
    "def randNumbers(r):\n",
    "    dm = 1\n",
    "    avg = 0\n",
    "    for n in range(0,r):\n",
    "        dm = random.randint(0,9)\n",
    "        avg += dm\n",
    "        print(dm)\n",
    "    print(\"The average of these random numbers is \" + str(int(avg/(n+1))))"
   ]
  },
  {
   "cell_type": "code",
   "execution_count": 137,
   "id": "18af584a",
   "metadata": {},
   "outputs": [
    {
     "name": "stdout",
     "output_type": "stream",
     "text": [
      "3\n",
      "9\n",
      "6\n",
      "0\n",
      "7\n",
      "The average of these random numbers is 5\n"
     ]
    }
   ],
   "source": [
    "randNumbers(5)"
   ]
  },
  {
   "cell_type": "code",
   "execution_count": 139,
   "id": "eebf5789",
   "metadata": {},
   "outputs": [
    {
     "name": "stdout",
     "output_type": "stream",
     "text": [
      "6\n",
      "4\n",
      "8\n",
      "The average of these random numbers is 6\n"
     ]
    }
   ],
   "source": [
    "randNumbers(3)"
   ]
  },
  {
   "cell_type": "markdown",
   "id": "ec474969",
   "metadata": {},
   "source": [
    "### Practice Problems"
   ]
  },
  {
   "cell_type": "markdown",
   "id": "6049e355",
   "metadata": {},
   "source": [
    "#### Practice Problem 1"
   ]
  },
  {
   "cell_type": "code",
   "execution_count": 18,
   "id": "052dca18",
   "metadata": {},
   "outputs": [],
   "source": [
    "def oddNumbers(x):\n",
    "    for n in range(x,100):\n",
    "        if n%2 != 0:\n",
    "            print(n)"
   ]
  },
  {
   "cell_type": "code",
   "execution_count": 19,
   "id": "39ca7d9f",
   "metadata": {},
   "outputs": [
    {
     "name": "stdout",
     "output_type": "stream",
     "text": [
      "91\n",
      "93\n",
      "95\n",
      "97\n",
      "99\n"
     ]
    }
   ],
   "source": [
    "oddNumbers(90)"
   ]
  },
  {
   "cell_type": "markdown",
   "id": "a7064cc1",
   "metadata": {},
   "source": [
    "#### Practice Problem 2"
   ]
  },
  {
   "cell_type": "code",
   "execution_count": 200,
   "id": "73771db0",
   "metadata": {},
   "outputs": [],
   "source": [
    "def fibonacci(n):\n",
    "    print(0)\n",
    "    f1, f2 = 0, 1\n",
    "    x = 0\n",
    "    for i in range(n-1):\n",
    "        f1 = f2\n",
    "        f2 = x\n",
    "        x = f1 + f2\n",
    "        print(x)"
   ]
  },
  {
   "cell_type": "code",
   "execution_count": 201,
   "id": "052a59d5",
   "metadata": {},
   "outputs": [
    {
     "name": "stdout",
     "output_type": "stream",
     "text": [
      "0\n",
      "1\n",
      "1\n",
      "2\n",
      "3\n",
      "5\n",
      "8\n",
      "13\n",
      "21\n",
      "34\n"
     ]
    }
   ],
   "source": [
    "fibonacci(10)"
   ]
  }
 ],
 "metadata": {
  "kernelspec": {
   "display_name": "Python 3",
   "language": "python",
   "name": "python3"
  },
  "language_info": {
   "codemirror_mode": {
    "name": "ipython",
    "version": 3
   },
   "file_extension": ".py",
   "mimetype": "text/x-python",
   "name": "python",
   "nbconvert_exporter": "python",
   "pygments_lexer": "ipython3",
   "version": "3.8.8"
  }
 },
 "nbformat": 4,
 "nbformat_minor": 5
}
