{
 "cells": [
  {
   "cell_type": "markdown",
   "id": "63a20473",
   "metadata": {},
   "source": [
    "# Lab02\n",
    "\n",
    "\n",
    "## arasberr"
   ]
  },
  {
   "cell_type": "markdown",
   "id": "af58c7c3",
   "metadata": {},
   "source": [
    "### Exercises:"
   ]
  },
  {
   "cell_type": "code",
   "execution_count": 17,
   "id": "f71302c4",
   "metadata": {
    "scrolled": true
   },
   "outputs": [],
   "source": [
    "def addTwoNumbers(f1,f2):\n",
    " \n",
    "    return f1+f2"
   ]
  },
  {
   "cell_type": "code",
   "execution_count": 18,
   "id": "41f945d6",
   "metadata": {},
   "outputs": [
    {
     "data": {
      "text/plain": [
       "32.5"
      ]
     },
     "execution_count": 18,
     "metadata": {},
     "output_type": "execute_result"
    }
   ],
   "source": [
    "addTwoNumbers(25.2,7.3)"
   ]
  },
  {
   "cell_type": "code",
   "execution_count": 19,
   "id": "c782b288",
   "metadata": {},
   "outputs": [],
   "source": [
    "def divTwoNumbers (f5,f6):\n",
    "    return f5/f6"
   ]
  },
  {
   "cell_type": "code",
   "execution_count": 20,
   "id": "43694991",
   "metadata": {
    "scrolled": true
   },
   "outputs": [
    {
     "data": {
      "text/plain": [
       "4.2"
      ]
     },
     "execution_count": 20,
     "metadata": {},
     "output_type": "execute_result"
    }
   ],
   "source": [
    "divTwoNumbers (12.6,3.0)"
   ]
  },
  {
   "cell_type": "code",
   "execution_count": 21,
   "id": "e3a7b5b6",
   "metadata": {},
   "outputs": [],
   "source": [
    "def subTwoNumbers (f7,f8):\n",
    "    return f7-f8"
   ]
  },
  {
   "cell_type": "code",
   "execution_count": 22,
   "id": "f9e3a013",
   "metadata": {},
   "outputs": [
    {
     "data": {
      "text/plain": [
       "2.55"
      ]
     },
     "execution_count": 22,
     "metadata": {},
     "output_type": "execute_result"
    }
   ],
   "source": [
    "subTwoNumbers(6.66,4.11)"
   ]
  },
  {
   "cell_type": "code",
   "execution_count": 25,
   "id": "3ef6febe",
   "metadata": {},
   "outputs": [],
   "source": [
    "def multTwoNumbers (f3,f4):\n",
    "    return f3*f4"
   ]
  },
  {
   "cell_type": "code",
   "execution_count": 26,
   "id": "9ce02a63",
   "metadata": {},
   "outputs": [
    {
     "data": {
      "text/plain": [
       "221.023"
      ]
     },
     "execution_count": 26,
     "metadata": {},
     "output_type": "execute_result"
    }
   ],
   "source": [
    "multTwoNumbers (7.81,28.3)"
   ]
  },
  {
   "cell_type": "markdown",
   "id": "28890e2a",
   "metadata": {},
   "source": [
    "### Practice Problems:"
   ]
  },
  {
   "cell_type": "code",
   "execution_count": 29,
   "id": "dc5e38cf",
   "metadata": {},
   "outputs": [],
   "source": [
    "def f(x,y):\n",
    "    return int((x+y)**3/(x**2+y**2)**.5)"
   ]
  },
  {
   "cell_type": "code",
   "execution_count": 30,
   "id": "1dd08d75",
   "metadata": {},
   "outputs": [
    {
     "data": {
      "text/plain": [
       "68"
      ]
     },
     "execution_count": 30,
     "metadata": {},
     "output_type": "execute_result"
    }
   ],
   "source": [
    "f(3,4)"
   ]
  },
  {
   "cell_type": "code",
   "execution_count": 27,
   "id": "01d15d90",
   "metadata": {},
   "outputs": [],
   "source": [
    "def fahr2celsius(f):\n",
    "    return (f-32)/1.8"
   ]
  },
  {
   "cell_type": "code",
   "execution_count": 28,
   "id": "a7ca33a8",
   "metadata": {},
   "outputs": [
    {
     "data": {
      "text/plain": [
       "23.333333333333332"
      ]
     },
     "execution_count": 28,
     "metadata": {},
     "output_type": "execute_result"
    }
   ],
   "source": [
    "fahr2celsius(74)"
   ]
  },
  {
   "cell_type": "code",
   "execution_count": 14,
   "id": "73cd6e2a",
   "metadata": {},
   "outputs": [],
   "source": [
    "def volumeSphere (r):\n",
    "    return (4/3)*math.pi*(r**3)"
   ]
  },
  {
   "cell_type": "code",
   "execution_count": 15,
   "id": "3ac1e2cb",
   "metadata": {},
   "outputs": [
    {
     "data": {
      "text/plain": [
       "4188.790204786391"
      ]
     },
     "execution_count": 15,
     "metadata": {},
     "output_type": "execute_result"
    }
   ],
   "source": [
    "volumeSphere(10)"
   ]
  },
  {
   "cell_type": "code",
   "execution_count": 29,
   "id": "d91ec197",
   "metadata": {},
   "outputs": [],
   "source": [
    "def avgOfThree(f1,f2,f3):\n",
    "    return int((f1+f2+f3)/3)"
   ]
  },
  {
   "cell_type": "code",
   "execution_count": 30,
   "id": "d934579a",
   "metadata": {},
   "outputs": [
    {
     "data": {
      "text/plain": [
       "40"
      ]
     },
     "execution_count": 30,
     "metadata": {},
     "output_type": "execute_result"
    }
   ],
   "source": [
    "avgOfThree(11,33,76)"
   ]
  }
 ],
 "metadata": {
  "kernelspec": {
   "display_name": "Python 3",
   "language": "python",
   "name": "python3"
  },
  "language_info": {
   "codemirror_mode": {
    "name": "ipython",
    "version": 3
   },
   "file_extension": ".py",
   "mimetype": "text/x-python",
   "name": "python",
   "nbconvert_exporter": "python",
   "pygments_lexer": "ipython3",
   "version": "3.8.8"
  }
 },
 "nbformat": 4,
 "nbformat_minor": 5
}
