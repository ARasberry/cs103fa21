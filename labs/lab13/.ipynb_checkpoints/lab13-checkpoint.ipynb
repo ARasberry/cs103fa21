{
 "cells": [
  {
   "cell_type": "markdown",
   "id": "ade236ff",
   "metadata": {},
   "source": [
    "# Austin Rasberry\n",
    "## Lab13"
   ]
  },
  {
   "cell_type": "code",
   "execution_count": 91,
   "id": "6a293ba2",
   "metadata": {},
   "outputs": [],
   "source": [
    "import random\n",
    "import string"
   ]
  },
  {
   "cell_type": "code",
   "execution_count": 72,
   "id": "8f00782d",
   "metadata": {},
   "outputs": [],
   "source": [
    "def stringSearch(s1,s2):\n",
    "    strLenChecker = 0\n",
    "    strLen = 0\n",
    "    for n in range(0,len(s2)):\n",
    "        strLenChecker += 1\n",
    "    for i in range(0,len(s2)):\n",
    "        for j in range(0, len(s1)):\n",
    "            for l in range(0, len(s1)):\n",
    "                if s1[j] == s2[i]:\n",
    "                    strLen +=1\n",
    "                    if strLenChecker == strLen:\n",
    "                        return j\n",
    "        \n",
    "            "
   ]
  },
  {
   "cell_type": "code",
   "execution_count": 73,
   "id": "683cafb2",
   "metadata": {},
   "outputs": [
    {
     "data": {
      "text/plain": [
       "16"
      ]
     },
     "execution_count": 73,
     "metadata": {},
     "output_type": "execute_result"
    }
   ],
   "source": [
    "stringSearch('The quick brown fox jumps over the lazy dog', 'fox')"
   ]
  },
  {
   "cell_type": "code",
   "execution_count": 80,
   "id": "7c397e73",
   "metadata": {},
   "outputs": [],
   "source": [
    "def fileExtension(s1):\n",
    "    fileName = \"\"\n",
    "    for i in range(0,len(s1)):\n",
    "        if s1[i] == '.':\n",
    "            for n in range(i+1,len(s1)):\n",
    "                if s1[n] != '.':\n",
    "                    fileName += s1[n]\n",
    "                else:\n",
    "                    break\n",
    "    return fileName"
   ]
  },
  {
   "cell_type": "code",
   "execution_count": 84,
   "id": "00b2b6c5",
   "metadata": {},
   "outputs": [
    {
     "data": {
      "text/plain": [
       "'pdf'"
      ]
     },
     "execution_count": 84,
     "metadata": {},
     "output_type": "execute_result"
    }
   ],
   "source": [
    "fileExtension('lab13_103sp19.pdf')"
   ]
  },
  {
   "cell_type": "code",
   "execution_count": 85,
   "id": "c96aa6d9",
   "metadata": {},
   "outputs": [
    {
     "data": {
      "text/plain": [
       "'docx'"
      ]
     },
     "execution_count": 85,
     "metadata": {},
     "output_type": "execute_result"
    }
   ],
   "source": [
    "fileExtension('test.docx')"
   ]
  },
  {
   "cell_type": "code",
   "execution_count": 123,
   "id": "c66e69bb",
   "metadata": {},
   "outputs": [],
   "source": [
    "def password():\n",
    "    password = ''\n",
    "    index = 0\n",
    "    index = int(input('How long should the password be? '))\n",
    "    selector = 0\n",
    "    for i in range(0,index):\n",
    "        selector = random.randint(1,3)\n",
    "        if selector == 1:\n",
    "            password += random.choice(string.ascii_letters)\n",
    "        elif selector == 2:\n",
    "            password += str(random.randint(0,9))\n",
    "        elif selector == 3:\n",
    "            password += random.choice(string.punctuation)\n",
    "    print(password)"
   ]
  },
  {
   "cell_type": "code",
   "execution_count": 124,
   "id": "4878ff31",
   "metadata": {},
   "outputs": [
    {
     "name": "stdout",
     "output_type": "stream",
     "text": [
      "How long should the password be? 9\n",
      "~\"j3y{8/i\n"
     ]
    }
   ],
   "source": [
    "password()"
   ]
  }
 ],
 "metadata": {
  "kernelspec": {
   "display_name": "Python 3",
   "language": "python",
   "name": "python3"
  },
  "language_info": {
   "codemirror_mode": {
    "name": "ipython",
    "version": 3
   },
   "file_extension": ".py",
   "mimetype": "text/x-python",
   "name": "python",
   "nbconvert_exporter": "python",
   "pygments_lexer": "ipython3",
   "version": "3.8.8"
  }
 },
 "nbformat": 4,
 "nbformat_minor": 5
}
