{
 "cells": [
  {
   "cell_type": "code",
   "execution_count": 28,
   "id": "16bf233e",
   "metadata": {},
   "outputs": [],
   "source": [
    "def mOfThree(n):\n",
    "    f = 1\n",
    "    while f:\n",
    "        f += 1\n",
    "        if f <= n and f%3 == 0:\n",
    "            print(f) \n",
    "        elif f> n:\n",
    "            break"
   ]
  },
  {
   "cell_type": "code",
   "execution_count": 29,
   "id": "778f1f42",
   "metadata": {},
   "outputs": [
    {
     "name": "stdout",
     "output_type": "stream",
     "text": [
      "3\n",
      "6\n",
      "9\n",
      "12\n",
      "15\n",
      "18\n",
      "21\n",
      "24\n",
      "27\n",
      "30\n",
      "33\n",
      "36\n",
      "39\n",
      "42\n",
      "45\n",
      "48\n",
      "51\n",
      "54\n",
      "57\n",
      "60\n",
      "63\n",
      "66\n",
      "69\n",
      "72\n",
      "75\n",
      "78\n",
      "81\n",
      "84\n",
      "87\n",
      "90\n",
      "93\n",
      "96\n",
      "99\n",
      "102\n",
      "105\n",
      "108\n",
      "111\n",
      "114\n",
      "117\n",
      "120\n",
      "123\n",
      "126\n",
      "129\n",
      "132\n",
      "135\n",
      "138\n",
      "141\n",
      "144\n",
      "147\n",
      "150\n",
      "153\n",
      "156\n",
      "159\n",
      "162\n",
      "165\n",
      "168\n",
      "171\n",
      "174\n",
      "177\n",
      "180\n",
      "183\n",
      "186\n",
      "189\n",
      "192\n",
      "195\n",
      "198\n",
      "201\n"
     ]
    }
   ],
   "source": [
    "mOfThree(203)"
   ]
  },
  {
   "cell_type": "code",
   "execution_count": 54,
   "id": "345a9605",
   "metadata": {},
   "outputs": [],
   "source": [
    "def tupleCheck(t):\n",
    "    evenNum = 0\n",
    "    oddNum = 0\n",
    "    for n in range(0,len(t)):\n",
    "        if t[n]%2 == 0:\n",
    "            evenNum += 1\n",
    "        else:\n",
    "            oddNum += 1\n",
    "    print('Number of even integers: ' + str(evenNum))\n",
    "    print('Number of odd integers: ' + str(oddNum))"
   ]
  },
  {
   "cell_type": "code",
   "execution_count": 55,
   "id": "9fab736e",
   "metadata": {},
   "outputs": [
    {
     "name": "stdout",
     "output_type": "stream",
     "text": [
      "Number of even integers: 4\n",
      "Number of odd integers: 5\n"
     ]
    }
   ],
   "source": [
    "tupleCheck([1,2,3,4,5,6,7,8,9])"
   ]
  },
  {
   "cell_type": "code",
   "execution_count": 95,
   "id": "cae45b64",
   "metadata": {},
   "outputs": [],
   "source": [
    "def caseCheck(s):\n",
    "    upCase = 0\n",
    "    lowCase = 0\n",
    "    for n in range(0,len(s)):\n",
    "        if s[n].isupper() == True:\n",
    "            upCase += 1\n",
    "        else:\n",
    "            lowCase += 1\n",
    "    print('Number of upper cased letters: ' + str(upCase))\n",
    "    print('Number of lower cased letters: ' + str(lowCase))"
   ]
  },
  {
   "cell_type": "code",
   "execution_count": 96,
   "id": "3ec6fc04",
   "metadata": {},
   "outputs": [
    {
     "name": "stdout",
     "output_type": "stream",
     "text": [
      "Number of upper cased letters: 3\n",
      "Number of lower cased letters: 16\n"
     ]
    }
   ],
   "source": [
    "caseCheck('The quick Brown Fox')"
   ]
  },
  {
   "cell_type": "code",
   "execution_count": null,
   "id": "068478de",
   "metadata": {},
   "outputs": [],
   "source": []
  },
  {
   "cell_type": "code",
   "execution_count": 84,
   "id": "d2f59f24",
   "metadata": {},
   "outputs": [],
   "source": []
  },
  {
   "cell_type": "code",
   "execution_count": null,
   "id": "5b72ad5a",
   "metadata": {},
   "outputs": [],
   "source": []
  },
  {
   "cell_type": "code",
   "execution_count": null,
   "id": "f18440ab",
   "metadata": {},
   "outputs": [],
   "source": []
  }
 ],
 "metadata": {
  "kernelspec": {
   "display_name": "Python 3",
   "language": "python",
   "name": "python3"
  },
  "language_info": {
   "codemirror_mode": {
    "name": "ipython",
    "version": 3
   },
   "file_extension": ".py",
   "mimetype": "text/x-python",
   "name": "python",
   "nbconvert_exporter": "python",
   "pygments_lexer": "ipython3",
   "version": "3.8.8"
  }
 },
 "nbformat": 4,
 "nbformat_minor": 5
}
