{
 "cells": [
  {
   "cell_type": "markdown",
   "id": "25d08483",
   "metadata": {},
   "source": [
    "# Austin Rasberry\n",
    "## arasberr\n",
    "### lab12"
   ]
  },
  {
   "cell_type": "code",
   "execution_count": 7,
   "id": "2085292f",
   "metadata": {},
   "outputs": [],
   "source": [
    "def hailstone(n2):\n",
    "    while n2 != 1:\n",
    "        print(int(n2))\n",
    "        if n2%2 != 0:\n",
    "            n2 = (n2*3)+1\n",
    "        else:\n",
    "            n2 = n2/2"
   ]
  },
  {
   "cell_type": "code",
   "execution_count": 10,
   "id": "1de0a4bb",
   "metadata": {},
   "outputs": [
    {
     "name": "stdout",
     "output_type": "stream",
     "text": [
      "3\n",
      "10\n",
      "5\n",
      "16\n",
      "8\n",
      "4\n",
      "2\n"
     ]
    }
   ],
   "source": [
    "hailstone(3)"
   ]
  },
  {
   "cell_type": "code",
   "execution_count": 16,
   "id": "4382e6bc",
   "metadata": {},
   "outputs": [],
   "source": [
    "def keysToRemove(d1,l1):\n",
    "    for i in range(0,len(l1)):\n",
    "        if l1[i] in d1:\n",
    "            d1.pop(l1[i])\n",
    "    return d1"
   ]
  },
  {
   "cell_type": "code",
   "execution_count": 17,
   "id": "a85ee2f5",
   "metadata": {},
   "outputs": [
    {
     "data": {
      "text/plain": [
       "{'FirstName': 'Mark', 'LastName': 'Zuckerberg', 'City': 'Palo Alto'}"
      ]
     },
     "execution_count": 17,
     "metadata": {},
     "output_type": "execute_result"
    }
   ],
   "source": [
    "keysToRemove({\"FirstName\": \"Mark\", \"LastName\": \"Zuckerberg\", \"Salary\": 2000000, \n",
    "\"City\": \"Palo Alto\", \"Company\":\"Facebook\"}, [\"Salary\", \"Company\"])"
   ]
  },
  {
   "cell_type": "code",
   "execution_count": 54,
   "id": "a9c3c86f",
   "metadata": {},
   "outputs": [],
   "source": [
    "def animalLegs(d2):\n",
    "    cowLegs = 0\n",
    "    rabbitLegs = 0\n",
    "    dogLegs = 0\n",
    "    chickenLegs = 0\n",
    "    totalLegs = 0\n",
    "    cowLegs = d2.get('cows', 0) * 4\n",
    "    rabbitLegs = d2.get('rabbits', 0) * 4\n",
    "    dogLegs = d2.get('dogs', 0) * 4\n",
    "    chickenLegs = d2.get('chickens', 0) * 2\n",
    "    totalLegs = cowLegs + rabbitLegs + dogLegs + chickenLegs\n",
    "    return totalLegs"
   ]
  },
  {
   "cell_type": "code",
   "execution_count": 55,
   "id": "64752e3a",
   "metadata": {},
   "outputs": [
    {
     "data": {
      "text/plain": [
       "40"
      ]
     },
     "execution_count": 55,
     "metadata": {},
     "output_type": "execute_result"
    }
   ],
   "source": [
    "animalLegs({'chickens':10, 'rabbits': 5}) "
   ]
  },
  {
   "cell_type": "code",
   "execution_count": 56,
   "id": "c0ebacde",
   "metadata": {},
   "outputs": [
    {
     "data": {
      "text/plain": [
       "70"
      ]
     },
     "execution_count": 56,
     "metadata": {},
     "output_type": "execute_result"
    }
   ],
   "source": [
    "animalLegs({'dogs':10, 'chickens':5, 'cows':5})"
   ]
  },
  {
   "cell_type": "code",
   "execution_count": 66,
   "id": "65a9603b",
   "metadata": {},
   "outputs": [],
   "source": [
    "def listDetails(L):\n",
    "    numOfElements = len(L)\n",
    "    minValue = L[1] \n",
    "    minIndex = 0\n",
    "    totalValue = 0\n",
    "    mean = 0 \n",
    "    maxValue = L[1]\n",
    "    maxIndex = 0\n",
    "    tupleDetails = ()\n",
    "    for i in range(0,len(L)):\n",
    "        if L[i] < minValue:\n",
    "            minValue = L[i]\n",
    "            minIndex = i\n",
    "    for i in range(0,len(L)):\n",
    "        if L[i] > maxValue:\n",
    "            maxValue = L[i]\n",
    "            maxIndex = i\n",
    "    for i in range(0,len(L)):\n",
    "        totalValue += L[i]\n",
    "    mean = round(totalValue / len(L),2)\n",
    "    tupleDetails = (numOfElements, minValue, minIndex, mean, maxValue, maxIndex)\n",
    "    return tupleDetails"
   ]
  },
  {
   "cell_type": "code",
   "execution_count": 67,
   "id": "2dc71cbe",
   "metadata": {},
   "outputs": [
    {
     "data": {
      "text/plain": [
       "(11, -41, 9, 62.27, 631, 7)"
      ]
     },
     "execution_count": 67,
     "metadata": {},
     "output_type": "execute_result"
    }
   ],
   "source": [
    "listDetails( [-8, -23, 18, 103, 0, 1, -4, 631, 3, -41, 5] )"
   ]
  },
  {
   "cell_type": "code",
   "execution_count": 90,
   "id": "a5655f29",
   "metadata": {},
   "outputs": [],
   "source": [
    "def minSum(L2):\n",
    "    minSum = L2[0]+L2[1]\n",
    "    minSumIndices = []\n",
    "    for i in range(0,len(L2)):\n",
    "        for n in range(0,len(L2)):\n",
    "            if L2[i] + L2[n] < minSum and L2[i] + L2[n] != L2[i]* 2:\n",
    "                minSum = L2[i] +L2[n]\n",
    "                minSumIndices = [i,n]\n",
    "    print(minSumIndices)"
   ]
  },
  {
   "cell_type": "code",
   "execution_count": 93,
   "id": "375316d3",
   "metadata": {},
   "outputs": [
    {
     "name": "stdout",
     "output_type": "stream",
     "text": [
      "[0, 4]\n"
     ]
    }
   ],
   "source": [
    "minSum([2,78,9,21,4,99,33])"
   ]
  }
 ],
 "metadata": {
  "kernelspec": {
   "display_name": "Python 3",
   "language": "python",
   "name": "python3"
  },
  "language_info": {
   "codemirror_mode": {
    "name": "ipython",
    "version": 3
   },
   "file_extension": ".py",
   "mimetype": "text/x-python",
   "name": "python",
   "nbconvert_exporter": "python",
   "pygments_lexer": "ipython3",
   "version": "3.8.8"
  }
 },
 "nbformat": 4,
 "nbformat_minor": 5
}
