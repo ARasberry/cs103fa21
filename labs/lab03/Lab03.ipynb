{
 "cells": [
  {
   "cell_type": "markdown",
   "id": "0319c684",
   "metadata": {},
   "source": [
    "# Austin Rasberry\n",
    "## Lab03\n",
    "### arasberr"
   ]
  },
  {
   "cell_type": "code",
   "execution_count": 73,
   "id": "abd0b23a",
   "metadata": {},
   "outputs": [],
   "source": [
    "import math"
   ]
  },
  {
   "cell_type": "markdown",
   "id": "7cfacce3",
   "metadata": {},
   "source": [
    "#### Excercise 1"
   ]
  },
  {
   "cell_type": "code",
   "execution_count": 6,
   "id": "7f8dfd2c",
   "metadata": {},
   "outputs": [],
   "source": [
    "def bmiCalculator(wt,h):\n",
    "   return ((wt*703)/(h)**2)"
   ]
  },
  {
   "cell_type": "code",
   "execution_count": 7,
   "id": "17a84f31",
   "metadata": {},
   "outputs": [
    {
     "data": {
      "text/plain": [
       "33.90239197530864"
      ]
     },
     "execution_count": 7,
     "metadata": {},
     "output_type": "execute_result"
    }
   ],
   "source": [
    "bmiCalculator (250,72)"
   ]
  },
  {
   "cell_type": "markdown",
   "id": "b4c21b18",
   "metadata": {},
   "source": [
    "#### Excercise 2"
   ]
  },
  {
   "cell_type": "code",
   "execution_count": 11,
   "id": "88367064",
   "metadata": {},
   "outputs": [],
   "source": [
    "def nMultiplier (n):\n",
    "    return n+(n*11)+(n*111)"
   ]
  },
  {
   "cell_type": "code",
   "execution_count": 12,
   "id": "1c029a78",
   "metadata": {},
   "outputs": [
    {
     "data": {
      "text/plain": [
       "615"
      ]
     },
     "execution_count": 12,
     "metadata": {},
     "output_type": "execute_result"
    }
   ],
   "source": [
    "nMultiplier (5)"
   ]
  },
  {
   "cell_type": "markdown",
   "id": "0129f0fe",
   "metadata": {},
   "source": [
    "#### Excercise 3"
   ]
  },
  {
   "cell_type": "code",
   "execution_count": 32,
   "id": "b151e9e2",
   "metadata": {},
   "outputs": [],
   "source": [
    "def simpleGrader(average):\n",
    "    if average > 70:\n",
    "       return True \n",
    "    else:\n",
    "        return False "
   ]
  },
  {
   "cell_type": "code",
   "execution_count": 33,
   "id": "4643fbb2",
   "metadata": {},
   "outputs": [
    {
     "data": {
      "text/plain": [
       "True"
      ]
     },
     "execution_count": 33,
     "metadata": {},
     "output_type": "execute_result"
    }
   ],
   "source": [
    "simpleGrader(71)"
   ]
  },
  {
   "cell_type": "code",
   "execution_count": 34,
   "id": "ff1ebb32",
   "metadata": {},
   "outputs": [
    {
     "data": {
      "text/plain": [
       "False"
      ]
     },
     "execution_count": 34,
     "metadata": {},
     "output_type": "execute_result"
    }
   ],
   "source": [
    "simpleGrader(69)"
   ]
  },
  {
   "cell_type": "markdown",
   "id": "11e8929b",
   "metadata": {},
   "source": [
    "#### Excercise 4"
   ]
  },
  {
   "cell_type": "code",
   "execution_count": 69,
   "id": "56da62c7",
   "metadata": {},
   "outputs": [],
   "source": [
    "def stringSlicer (s1):\n",
    "    return s1[-4:len(s1)]"
   ]
  },
  {
   "cell_type": "code",
   "execution_count": 70,
   "id": "4dbb7c5f",
   "metadata": {},
   "outputs": [
    {
     "data": {
      "text/plain": [
       "'LAB3'"
      ]
     },
     "execution_count": 70,
     "metadata": {},
     "output_type": "execute_result"
    }
   ],
   "source": [
    "stringSlicer('UAB CS103 LAB3') "
   ]
  },
  {
   "cell_type": "markdown",
   "id": "12277f44",
   "metadata": {},
   "source": [
    "#### Practice Problem 1"
   ]
  },
  {
   "cell_type": "code",
   "execution_count": 82,
   "id": "73e992dd",
   "metadata": {},
   "outputs": [],
   "source": [
    "def volCone(r,h):\n",
    "    return (1/3)*(math.pi*((r)**2)*h)"
   ]
  },
  {
   "cell_type": "code",
   "execution_count": 87,
   "id": "85679f4e",
   "metadata": {},
   "outputs": [
    {
     "data": {
      "text/plain": [
       "1.0471975511965976"
      ]
     },
     "execution_count": 87,
     "metadata": {},
     "output_type": "execute_result"
    }
   ],
   "source": [
    "volCone(1,1)"
   ]
  },
  {
   "cell_type": "code",
   "execution_count": 84,
   "id": "6b6dd0f2",
   "metadata": {},
   "outputs": [
    {
     "data": {
      "text/plain": [
       "8.377580409572781"
      ]
     },
     "execution_count": 84,
     "metadata": {},
     "output_type": "execute_result"
    }
   ],
   "source": [
    "volCone(2,2)"
   ]
  },
  {
   "cell_type": "code",
   "execution_count": 85,
   "id": "31dc41d1",
   "metadata": {},
   "outputs": [
    {
     "data": {
      "text/plain": [
       "18.84955592153876"
      ]
     },
     "execution_count": 85,
     "metadata": {},
     "output_type": "execute_result"
    }
   ],
   "source": [
    "volCone(3,2)"
   ]
  },
  {
   "cell_type": "markdown",
   "id": "923ade30",
   "metadata": {},
   "source": [
    "#### Practice Problem 2"
   ]
  },
  {
   "cell_type": "code",
   "execution_count": 26,
   "id": "07e801a6",
   "metadata": {},
   "outputs": [],
   "source": [
    "def distOrigin(x,y):\n",
    "    return math.sqrt(((x)**2)+((y)**2))"
   ]
  },
  {
   "cell_type": "code",
   "execution_count": 27,
   "id": "a50f074e",
   "metadata": {},
   "outputs": [
    {
     "data": {
      "text/plain": [
       "0.0"
      ]
     },
     "execution_count": 27,
     "metadata": {},
     "output_type": "execute_result"
    }
   ],
   "source": [
    "distOrigin(0,0)"
   ]
  },
  {
   "cell_type": "code",
   "execution_count": 28,
   "id": "bf849636",
   "metadata": {},
   "outputs": [
    {
     "data": {
      "text/plain": [
       "5.0"
      ]
     },
     "execution_count": 28,
     "metadata": {},
     "output_type": "execute_result"
    }
   ],
   "source": [
    "distOrigin(3,4)"
   ]
  },
  {
   "cell_type": "code",
   "execution_count": 29,
   "id": "419e7c5b",
   "metadata": {},
   "outputs": [
    {
     "data": {
      "text/plain": [
       "2.0"
      ]
     },
     "execution_count": 29,
     "metadata": {},
     "output_type": "execute_result"
    }
   ],
   "source": [
    "distOrigin(0,2)"
   ]
  }
 ],
 "metadata": {
  "kernelspec": {
   "display_name": "Python 3",
   "language": "python",
   "name": "python3"
  },
  "language_info": {
   "codemirror_mode": {
    "name": "ipython",
    "version": 3
   },
   "file_extension": ".py",
   "mimetype": "text/x-python",
   "name": "python",
   "nbconvert_exporter": "python",
   "pygments_lexer": "ipython3",
   "version": "3.8.8"
  }
 },
 "nbformat": 4,
 "nbformat_minor": 5
}
