{
 "cells": [
  {
   "cell_type": "markdown",
   "id": "8a08938b",
   "metadata": {},
   "source": [
    "# Austin Rasberry\n",
    "# Lab11"
   ]
  },
  {
   "cell_type": "markdown",
   "id": "75d89746",
   "metadata": {},
   "source": [
    "#### modules"
   ]
  },
  {
   "cell_type": "code",
   "execution_count": 44,
   "id": "2f43db85",
   "metadata": {},
   "outputs": [],
   "source": [
    "import turtle\n",
    "import numpy as np"
   ]
  },
  {
   "cell_type": "markdown",
   "id": "c31970cc",
   "metadata": {},
   "source": [
    "#### helper functions for exercise 1"
   ]
  },
  {
   "cell_type": "code",
   "execution_count": 45,
   "id": "9cd48ab1",
   "metadata": {},
   "outputs": [],
   "source": [
    "def roof(n1):\n",
    "    turtle.forward(n1/2)\n",
    "    turtle.left(120)\n",
    "    turtle.forward(n1)\n",
    "    turtle.left(120)\n",
    "    turtle.forward(n1)\n",
    "    turtle.left(120)\n",
    "    turtle.forward(n1/2)"
   ]
  },
  {
   "cell_type": "code",
   "execution_count": 68,
   "id": "6df45a30",
   "metadata": {},
   "outputs": [],
   "source": [
    "def building(n1):\n",
    "    turtle.forward(n1/2)\n",
    "    for i in range(0,4):\n",
    "        turtle.right(90)\n",
    "        turtle.forward(n1)\n",
    "    \n",
    "    "
   ]
  },
  {
   "cell_type": "code",
   "execution_count": 69,
   "id": "524c8109",
   "metadata": {},
   "outputs": [],
   "source": [
    "def gate(n1):\n",
    "    turtle.right(90)\n",
    "    turtle.forward(n1)\n",
    "    turtle.right(90)\n",
    "    turtle.forward(n1/4)\n",
    "    turtle.right(90)\n",
    "    turtle.forward(n1/2)\n",
    "    turtle.left(90)\n",
    "    turtle.forward(n1/2)\n",
    "    turtle.left(90)\n",
    "    turtle.forward(n1/2)"
   ]
  },
  {
   "cell_type": "markdown",
   "id": "b9918eb8",
   "metadata": {},
   "source": [
    "### Exercise 1"
   ]
  },
  {
   "cell_type": "code",
   "execution_count": null,
   "id": "9d9219f9",
   "metadata": {},
   "outputs": [],
   "source": [
    "def tHouse(n1):\n",
    "    roof(n1)\n",
    "    building(n1)\n",
    "    gate(n1)"
   ]
  },
  {
   "cell_type": "code",
   "execution_count": 71,
   "id": "1aa51b12",
   "metadata": {},
   "outputs": [],
   "source": [
    "tHouse(80)"
   ]
  },
  {
   "cell_type": "markdown",
   "id": "a5a82efc",
   "metadata": {},
   "source": [
    "### Exercise 2"
   ]
  },
  {
   "cell_type": "code",
   "execution_count": 5,
   "id": "16438883",
   "metadata": {},
   "outputs": [],
   "source": [
    "from math import *\n",
    "def twoDmatrix(n2,m):\n",
    "    \n",
    "    count = 1\n",
    "    for i in range(1,ceil(m/n2)+1):\n",
    "        for p in range(1,int(n2)+1):\n",
    "            print(count, end='  ')\n",
    "            count += 1\n",
    "            if count > m:\n",
    "                break\n",
    "        print('')\n",
    "        "
   ]
  },
  {
   "cell_type": "code",
   "execution_count": 7,
   "id": "55984760",
   "metadata": {},
   "outputs": [
    {
     "name": "stdout",
     "output_type": "stream",
     "text": [
      "1  2  3  4  5  6  7  8  \n",
      "9  10  11  12  13  14  15  16  \n",
      "17  18  19  20  21  22  23  24  \n",
      "25  26  27  28  \n"
     ]
    }
   ],
   "source": [
    "twoDmatrix(8,28)"
   ]
  },
  {
   "cell_type": "markdown",
   "id": "8c8cabb2",
   "metadata": {},
   "source": [
    "### Exercise 3"
   ]
  },
  {
   "cell_type": "code",
   "execution_count": 28,
   "id": "45393786",
   "metadata": {},
   "outputs": [],
   "source": [
    "def armstrongChecker(a):\n",
    "    num = str(a)\n",
    "    if (int(num[0])**3) + (int(num[1])**3) + (int(num[2])**3) == a:\n",
    "        return True\n",
    "    else:\n",
    "        return False"
   ]
  },
  {
   "cell_type": "code",
   "execution_count": 31,
   "id": "828b8bf4",
   "metadata": {},
   "outputs": [
    {
     "data": {
      "text/plain": [
       "True"
      ]
     },
     "execution_count": 31,
     "metadata": {},
     "output_type": "execute_result"
    }
   ],
   "source": [
    "armstrongChecker(153)"
   ]
  },
  {
   "cell_type": "markdown",
   "id": "060e2913",
   "metadata": {},
   "source": [
    "### Practice Problem 1"
   ]
  },
  {
   "cell_type": "code",
   "execution_count": 31,
   "id": "278f7e91",
   "metadata": {},
   "outputs": [],
   "source": [
    "def cEmail(s1):\n",
    "    compName = \"\"\n",
    "    for i in range(0,len(s1)):\n",
    "        if s1[i] == '@':\n",
    "            for n in range(i+1,len(s1)):\n",
    "                if s1[n] != '.':\n",
    "                    compName += s1[n]\n",
    "                else:\n",
    "                    break\n",
    "    return compName"
   ]
  },
  {
   "cell_type": "code",
   "execution_count": 32,
   "id": "51236132",
   "metadata": {},
   "outputs": [
    {
     "data": {
      "text/plain": [
       "'uab'"
      ]
     },
     "execution_count": 32,
     "metadata": {},
     "output_type": "execute_result"
    }
   ],
   "source": [
    "cEmail('unan@uab.edu')"
   ]
  },
  {
   "cell_type": "markdown",
   "id": "fc2701d4",
   "metadata": {},
   "source": [
    "### Practice Problem 2"
   ]
  },
  {
   "cell_type": "code",
   "execution_count": 63,
   "id": "5b2721c8",
   "metadata": {},
   "outputs": [],
   "source": [
    "def basicStats(npArray):\n",
    "    stats = []\n",
    "    avgTotal = 0\n",
    "    mean = 0\n",
    "    stdVar = 0\n",
    "    stdArray = []\n",
    "    stdTotal = 0\n",
    "    std = 0\n",
    "    varVar = 0\n",
    "    varArray = []\n",
    "    varTotal = 0\n",
    "    var = 0 \n",
    "    solution = []\n",
    "    for i in range(0,len(npArray)):\n",
    "        avgTotal += npArray[i]\n",
    "    mean = avgTotal/len(npArray)\n",
    "    solution.append(mean)\n",
    "    for n in range(0,len(npArray)):\n",
    "        stdVar = (npArray[n]-mean) **2\n",
    "        stdArray.append(stdVar)\n",
    "    for i in range(0,len(stdArray)):\n",
    "        stdTotal += stdArray[i]\n",
    "    std = (stdTotal/len(stdArray))**.5\n",
    "    solution.append(std)\n",
    "    for n in range(0,len(npArray)):\n",
    "        varVar= (npArray[n]-mean)**2\n",
    "        varArray.append(varVar)\n",
    "    for i in range(0,len(varArray)):\n",
    "        varTotal += varArray[i]\n",
    "    var = varTotal/len(varArray)\n",
    "    solution.append(var)\n",
    "    print(solution)"
   ]
  },
  {
   "cell_type": "code",
   "execution_count": 64,
   "id": "d755bb3f",
   "metadata": {},
   "outputs": [
    {
     "name": "stdout",
     "output_type": "stream",
     "text": [
      "[2.5, 1.707825127659933, 2.9166666666666665]\n"
     ]
    }
   ],
   "source": [
    "basicStats([0,1,2,3,4,5])"
   ]
  }
 ],
 "metadata": {
  "kernelspec": {
   "display_name": "Python 3",
   "language": "python",
   "name": "python3"
  },
  "language_info": {
   "codemirror_mode": {
    "name": "ipython",
    "version": 3
   },
   "file_extension": ".py",
   "mimetype": "text/x-python",
   "name": "python",
   "nbconvert_exporter": "python",
   "pygments_lexer": "ipython3",
   "version": "3.8.8"
  }
 },
 "nbformat": 4,
 "nbformat_minor": 5
}
